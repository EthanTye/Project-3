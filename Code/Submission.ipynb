{
 "cells": [
  {
   "cell_type": "markdown",
   "source": [
    "# Notebook 3"
   ],
   "metadata": {
    "collapsed": false
   }
  },
  {
   "cell_type": "markdown",
   "source": [
    "#### Imports"
   ],
   "metadata": {
    "collapsed": false,
    "pycharm": {
     "name": "#%% md\n"
    }
   }
  },
  {
   "cell_type": "code",
   "execution_count": 1,
   "metadata": {
    "collapsed": true
   },
   "outputs": [],
   "source": [
    "#General purpose\n",
    "import pandas as pd\n",
    "import numpy as np\n",
    "import seaborn as sns\n",
    "import matplotlib.pyplot as plt\n",
    "import re\n",
    "import random\n",
    "import time\n",
    "\n",
    "#tokenizers, lemmatizers and vectorizers\n",
    "import spacy\n",
    "from spacy.tokenizer import Tokenizer\n",
    "\n",
    "#model, metrics and cross val tools\n",
    "from sklearn.metrics import accuracy_score\n",
    "from sklearn.model_selection import train_test_split, GridSearchCV, cross_val_score\n",
    "from sklearn.pipeline import Pipeline\n",
    "from sklearn.naive_bayes import MultinomialNB\n",
    "from sklearn.metrics import confusion_matrix, ConfusionMatrixDisplay,classification_report, roc_curve, auc\n",
    "from sklearn.feature_extraction.text import CountVectorizer\n",
    "from sklearn.linear_model import LogisticRegression, SGDClassifier\n",
    "from sklearn.neighbors import KNeighborsClassifier\n",
    "from sklearn.tree import DecisionTreeClassifier\n",
    "from sklearn.ensemble import RandomForestClassifier\n",
    "from sklearn.svm import LinearSVC, SVC\n",
    "from sklearn.dummy import DummyClassifier"
   ]
  },
  {
   "cell_type": "code",
   "execution_count": 83,
   "outputs": [],
   "source": [
    "#reading in cleaned dataset from book 2\n",
    "df = pd.read_csv('../Datasets/combined_cleaned.csv')"
   ],
   "metadata": {
    "collapsed": false,
    "pycharm": {
     "name": "#%%\n"
    }
   }
  },
  {
   "cell_type": "markdown",
   "source": [
    "## Tokenization and Lemmatization with Spacy"
   ],
   "metadata": {
    "collapsed": false
   }
  },
  {
   "cell_type": "code",
   "execution_count": 84,
   "outputs": [],
   "source": [
    "# loading language module from spacy that we will use to tokenize and lemmatize\n",
    "#python -m spacy download en_core_web_sm - might require download\n",
    "nlp = spacy.load('en_core_web_sm')"
   ],
   "metadata": {
    "collapsed": false,
    "pycharm": {
     "name": "#%%\n"
    }
   }
  },
  {
   "cell_type": "code",
   "execution_count": 85,
   "outputs": [],
   "source": [
    "# formating the titles to be all lowercase\n",
    "df['title'] = [title.lower() for title in df['title']]"
   ],
   "metadata": {
    "collapsed": false,
    "pycharm": {
     "name": "#%%\n"
    }
   }
  },
  {
   "cell_type": "code",
   "execution_count": 86,
   "outputs": [],
   "source": [
    "#using spacy to create a doc from the post titles\n",
    "df['doc'] = [nlp(title) for title in df['title']]\n",
    "#obtaining the tokens from the doc created by spacy\n",
    "df['tokens'] = [[token.text for token in doc] for doc in df['doc']]"
   ],
   "metadata": {
    "collapsed": false,
    "pycharm": {
     "name": "#%%\n"
    }
   }
  },
  {
   "cell_type": "code",
   "execution_count": 87,
   "outputs": [],
   "source": [
    "# creating a list of stopwords for use later\n",
    "stopwords = []\n",
    "for doc in df['doc']:\n",
    "    for token in doc:\n",
    "        if token.is_stop == True:\n",
    "            if token.text not in stopwords:\n",
    "                stopwords.append(str(token.text))\n",
    "\n",
    "#adding 2 items additional strings into stop word list\n",
    "stopwords.append('ve')\n",
    "stopwords.append('ll')"
   ],
   "metadata": {
    "collapsed": false,
    "pycharm": {
     "name": "#%%\n"
    }
   }
  },
  {
   "cell_type": "code",
   "execution_count": 88,
   "outputs": [
    {
     "data": {
      "text/plain": "['to', 'using', 'his', 'has', 'off']"
     },
     "execution_count": 88,
     "metadata": {},
     "output_type": "execute_result"
    }
   ],
   "source": [
    "#checking if looped worked as intended\n",
    "stopwords[:5]"
   ],
   "metadata": {
    "collapsed": false,
    "pycharm": {
     "name": "#%%\n"
    }
   }
  },
  {
   "cell_type": "code",
   "execution_count": 89,
   "outputs": [],
   "source": [
    "# storing the lemmatized version of tokens into a new row\n",
    "df['lemmas'] = [[token.lemma_ for token in doc] for doc in df['doc']]"
   ],
   "metadata": {
    "collapsed": false,
    "pycharm": {
     "name": "#%%\n"
    }
   }
  },
  {
   "cell_type": "code",
   "execution_count": 90,
   "outputs": [
    {
     "data": {
      "text/plain": "  subreddit                                              title  title_length  \\\n0  TheOnion  man admits to using frozen poo-filled condom t...            61   \n1  TheOnion  smooth recovery: exxonmobil has played off the...           102   \n2  TheOnion  greatest country in world unable to keep willi...            76   \n3  TheOnion  nation not sure how many ex-trump staffers it ...            65   \n4  TheOnion  advisors instruct william barr to avoid referr...           100   \n\n   title_word_count language  \\\n0                11       en   \n1                18       en   \n2                13       en   \n3                11       en   \n4                15       en   \n\n                                                 doc  \\\n0  (man, admits, to, using, frozen, poo, -, fille...   \n1  (smooth, recovery, :, exxonmobil, has, played,...   \n2  (greatest, country, in, world, unable, to, kee...   \n3  (nation, not, sure, how, many, ex, -, trump, s...   \n4  (advisors, instruct, william, barr, to, avoid,...   \n\n                                              tokens  \\\n0  [man, admits, to, using, frozen, poo, -, fille...   \n1  [smooth, recovery, :, exxonmobil, has, played,...   \n2  [greatest, country, in, world, unable, to, kee...   \n3  [nation, not, sure, how, many, ex, -, trump, s...   \n4  [advisors, instruct, william, barr, to, avoid,...   \n\n                                              lemmas  \n0  [man, admit, to, use, frozen, poo, -, fill, co...  \n1  [smooth, recovery, :, exxonmobil, have, play, ...  \n2  [great, country, in, world, unable, to, keep, ...  \n3  [nation, not, sure, how, many, ex, -, trump, s...  \n4  [advisor, instruct, william, barr, to, avoid, ...  ",
      "text/html": "<div>\n<style scoped>\n    .dataframe tbody tr th:only-of-type {\n        vertical-align: middle;\n    }\n\n    .dataframe tbody tr th {\n        vertical-align: top;\n    }\n\n    .dataframe thead th {\n        text-align: right;\n    }\n</style>\n<table border=\"1\" class=\"dataframe\">\n  <thead>\n    <tr style=\"text-align: right;\">\n      <th></th>\n      <th>subreddit</th>\n      <th>title</th>\n      <th>title_length</th>\n      <th>title_word_count</th>\n      <th>language</th>\n      <th>doc</th>\n      <th>tokens</th>\n      <th>lemmas</th>\n    </tr>\n  </thead>\n  <tbody>\n    <tr>\n      <th>0</th>\n      <td>TheOnion</td>\n      <td>man admits to using frozen poo-filled condom t...</td>\n      <td>61</td>\n      <td>11</td>\n      <td>en</td>\n      <td>(man, admits, to, using, frozen, poo, -, fille...</td>\n      <td>[man, admits, to, using, frozen, poo, -, fille...</td>\n      <td>[man, admit, to, use, frozen, poo, -, fill, co...</td>\n    </tr>\n    <tr>\n      <th>1</th>\n      <td>TheOnion</td>\n      <td>smooth recovery: exxonmobil has played off the...</td>\n      <td>102</td>\n      <td>18</td>\n      <td>en</td>\n      <td>(smooth, recovery, :, exxonmobil, has, played,...</td>\n      <td>[smooth, recovery, :, exxonmobil, has, played,...</td>\n      <td>[smooth, recovery, :, exxonmobil, have, play, ...</td>\n    </tr>\n    <tr>\n      <th>2</th>\n      <td>TheOnion</td>\n      <td>greatest country in world unable to keep willi...</td>\n      <td>76</td>\n      <td>13</td>\n      <td>en</td>\n      <td>(greatest, country, in, world, unable, to, kee...</td>\n      <td>[greatest, country, in, world, unable, to, kee...</td>\n      <td>[great, country, in, world, unable, to, keep, ...</td>\n    </tr>\n    <tr>\n      <th>3</th>\n      <td>TheOnion</td>\n      <td>nation not sure how many ex-trump staffers it ...</td>\n      <td>65</td>\n      <td>11</td>\n      <td>en</td>\n      <td>(nation, not, sure, how, many, ex, -, trump, s...</td>\n      <td>[nation, not, sure, how, many, ex, -, trump, s...</td>\n      <td>[nation, not, sure, how, many, ex, -, trump, s...</td>\n    </tr>\n    <tr>\n      <th>4</th>\n      <td>TheOnion</td>\n      <td>advisors instruct william barr to avoid referr...</td>\n      <td>100</td>\n      <td>15</td>\n      <td>en</td>\n      <td>(advisors, instruct, william, barr, to, avoid,...</td>\n      <td>[advisors, instruct, william, barr, to, avoid,...</td>\n      <td>[advisor, instruct, william, barr, to, avoid, ...</td>\n    </tr>\n  </tbody>\n</table>\n</div>"
     },
     "execution_count": 90,
     "metadata": {},
     "output_type": "execute_result"
    }
   ],
   "source": [
    "df.head()"
   ],
   "metadata": {
    "collapsed": false,
    "pycharm": {
     "name": "#%%\n"
    }
   }
  },
  {
   "cell_type": "markdown",
   "source": [
    "As mentioned in the previous code book a significant number of the words have the same root word by lemmatizing to the root word we can reduce the number of features which will reduce processing time while possibly also imporoving performance."
   ],
   "metadata": {
    "collapsed": false,
    "pycharm": {
     "name": "#%% md\n"
    }
   }
  },
  {
   "cell_type": "code",
   "execution_count": 91,
   "outputs": [],
   "source": [
    "# compining all the lemmatized tokens into a single string under a new column\n",
    "df['tok_lem_titles'] = [' '.join(sentence) for sentence in df['lemmas']]"
   ],
   "metadata": {
    "collapsed": false,
    "pycharm": {
     "name": "#%%\n"
    }
   }
  },
  {
   "cell_type": "code",
   "execution_count": 92,
   "outputs": [
    {
     "name": "stdout",
     "output_type": "stream",
     "text": [
      "<class 'pandas.core.frame.DataFrame'>\n",
      "RangeIndex: 9300 entries, 0 to 9299\n",
      "Data columns (total 9 columns):\n",
      " #   Column            Non-Null Count  Dtype \n",
      "---  ------            --------------  ----- \n",
      " 0   subreddit         9300 non-null   object\n",
      " 1   title             9300 non-null   object\n",
      " 2   title_length      9300 non-null   int64 \n",
      " 3   title_word_count  9300 non-null   int64 \n",
      " 4   language          9300 non-null   object\n",
      " 5   doc               9300 non-null   object\n",
      " 6   tokens            9300 non-null   object\n",
      " 7   lemmas            9300 non-null   object\n",
      " 8   tok_lem_titles    9300 non-null   object\n",
      "dtypes: int64(2), object(7)\n",
      "memory usage: 654.0+ KB\n"
     ]
    }
   ],
   "source": [
    "df.info()"
   ],
   "metadata": {
    "collapsed": false,
    "pycharm": {
     "name": "#%%\n"
    }
   }
  },
  {
   "cell_type": "code",
   "execution_count": 93,
   "outputs": [],
   "source": [
    "# mapping numerical values to the subreddits\n",
    "df['labels'] = df['subreddit'].map({'TheOnion': 1, 'nottheonion': 0})"
   ],
   "metadata": {
    "collapsed": false,
    "pycharm": {
     "name": "#%%\n"
    }
   }
  },
  {
   "cell_type": "code",
   "execution_count": 94,
   "outputs": [
    {
     "data": {
      "text/plain": "753     group of hunky cardinal appeal to pope to rela...\n1051             situation in nigeria seem pretty complex\n3507    increasingly worried man have not yet come acr...\n4275    study find virus frequently fool by fake vacci...\n4328                   way to apologize without say sorry\n4692    hamas call on justin bieber to cancel show in ...\n4862    national guard deploy to enforce vaccine manda...\n4891    republicans ban elmo from attend conservative ...\n4988    hamas call on justin bieber to cancel show in ...\n5226    ivermectin may help covid-19 patient , but onl...\n5336    apparent jilt ex spray paint \" mike be a cheat...\n5363    man who smuggle ' squid game ' into north kore...\n5374    man who smuggle ' squid game ' into north kore...\n5481    walmart pull child 's toy that swear and sing ...\n5554    who skip greek letter ' xi ' to name new covid...\n5599    big bird and sesame street friend ban from lar...\n5614                      dogphone will let dog use phone\n5785    walmart pull child 's toy that swear and sing ...\n5796    israel ban all foreigner except beautiful woma...\n5834    florida man play judas in ' jesus christ super...\n5839     \" invasive specie \" have a harmful nativist bias\n6005    jeffrey epstein be a ' 21st - century james bo...\n6057    german euthanasia clinic refuse unvaccinated c...\n6137    woman catch breastfeed her hairless cat on a d...\n6167    bomb squad call to gloucestershire royal hospi...\n6231    italian use fake silicone arm while getting va...\n6251    bomb squad race to a&amp;e after patient arriv...\n6299    man catch try to use fake arm to get vaccine s...\n6366    italian man try to dodge covid vaccine wear fa...\n6410    tucker carlson ask hunter biden for help get h...\n6509    car lift for double yellow line - painting the...\n6576    armed tennessee vegan demand restaurant staff ...\n6611    woman allegedly breastfeed cat on delta airlin...\n6629    ghislaine maxwell stare directly at her court ...\n6633    ex - kkk leader run as republican for office i...\n6639      italian man try to dodge covid jab use fake arm\n6934    drone crash on runway at holloman air force ba...\n6962    bomb squad call to hospital after man get wwii...\n7038    dozen of camel bar from saudi beauty contest o...\n7107    black life matter stand in solidarity with jus...\n7124    kanye west publicist press georgia election wo...\n7374    in rome the shock slogan of the casadio funera...\n7464    expert in antarctica trace microplastic pollut...\n7624    amazonsmile donate more than $ 40,000 to anti ...\n7836    north korea ban laugh for 11 day to mourn the ...\n7980    monkey ' kill 250 puppy in revenge for dog kil...\n7987    demi lovato sing to ghost to help they overcom...\n8011             anti-5 g necklace find to be radioactive\n8038    demi lovato sing to ghost to help they overcom...\n8072    scientist who train rat to play \" doom ii \" sa...\n8357                             content of free software\n8361    after 4 suicide in a year — 3 by hang — iisc b...\n8421    american man arrest for allegedly steal 18 - m...\n8756    florida man with drug around penis deny they b...\n8929                  drug dealer betray by his own beard\n8979    beware the elf on the shelf , privacy watchdog...\n9219    ok bill would pay parent $ 10k each day their ...\n9245                                         gift of life\n9277    do not forget to declare income from steal goo...\nName: tok_lem_titles, dtype: object"
     },
     "execution_count": 94,
     "metadata": {},
     "output_type": "execute_result"
    }
   ],
   "source": [
    "df[df.duplicated(subset = 'tok_lem_titles')]['tok_lem_titles']"
   ],
   "metadata": {
    "collapsed": false,
    "pycharm": {
     "name": "#%%\n"
    }
   }
  },
  {
   "cell_type": "markdown",
   "source": [
    "After tokenizing and lemmatizing there are still some duplicates, this is likely because the of differences in formatting, casing or inclusion of emoji and typos we will drop the remaining duplicates."
   ],
   "metadata": {
    "collapsed": false,
    "pycharm": {
     "name": "#%% md\n"
    }
   }
  },
  {
   "cell_type": "code",
   "execution_count": 95,
   "outputs": [],
   "source": [
    "df.drop_duplicates(subset = 'tok_lem_titles', keep = 'last', inplace = True)"
   ],
   "metadata": {
    "collapsed": false,
    "pycharm": {
     "name": "#%%\n"
    }
   }
  },
  {
   "cell_type": "code",
   "execution_count": 96,
   "outputs": [
    {
     "data": {
      "text/plain": "             title  title_length  title_word_count  language   doc  tokens  \\\nsubreddit                                                                    \nTheOnion      4644          4644              4644      4644  4644    4644   \nnottheonion   4597          4597              4597      4597  4597    4597   \n\n             lemmas  tok_lem_titles  labels  \nsubreddit                                    \nTheOnion       4644            4644    4644  \nnottheonion    4597            4597    4597  ",
      "text/html": "<div>\n<style scoped>\n    .dataframe tbody tr th:only-of-type {\n        vertical-align: middle;\n    }\n\n    .dataframe tbody tr th {\n        vertical-align: top;\n    }\n\n    .dataframe thead th {\n        text-align: right;\n    }\n</style>\n<table border=\"1\" class=\"dataframe\">\n  <thead>\n    <tr style=\"text-align: right;\">\n      <th></th>\n      <th>title</th>\n      <th>title_length</th>\n      <th>title_word_count</th>\n      <th>language</th>\n      <th>doc</th>\n      <th>tokens</th>\n      <th>lemmas</th>\n      <th>tok_lem_titles</th>\n      <th>labels</th>\n    </tr>\n    <tr>\n      <th>subreddit</th>\n      <th></th>\n      <th></th>\n      <th></th>\n      <th></th>\n      <th></th>\n      <th></th>\n      <th></th>\n      <th></th>\n      <th></th>\n    </tr>\n  </thead>\n  <tbody>\n    <tr>\n      <th>TheOnion</th>\n      <td>4644</td>\n      <td>4644</td>\n      <td>4644</td>\n      <td>4644</td>\n      <td>4644</td>\n      <td>4644</td>\n      <td>4644</td>\n      <td>4644</td>\n      <td>4644</td>\n    </tr>\n    <tr>\n      <th>nottheonion</th>\n      <td>4597</td>\n      <td>4597</td>\n      <td>4597</td>\n      <td>4597</td>\n      <td>4597</td>\n      <td>4597</td>\n      <td>4597</td>\n      <td>4597</td>\n      <td>4597</td>\n    </tr>\n  </tbody>\n</table>\n</div>"
     },
     "execution_count": 96,
     "metadata": {},
     "output_type": "execute_result"
    }
   ],
   "source": [
    "df.groupby('subreddit').count()"
   ],
   "metadata": {
    "collapsed": false,
    "pycharm": {
     "name": "#%%\n"
    }
   }
  },
  {
   "cell_type": "code",
   "execution_count": 97,
   "outputs": [],
   "source": [
    "#splitting the dataset based on subreddit.\n",
    "df_not = df[df.subreddit == \"nottheonion\"][['subreddit','tok_lem_titles','labels', 'doc']]\n",
    "df_onion = df[df.subreddit == \"TheOnion\"][['subreddit','tok_lem_titles','labels', 'doc']]"
   ],
   "metadata": {
    "collapsed": false,
    "pycharm": {
     "name": "#%%\n"
    }
   }
  },
  {
   "cell_type": "code",
   "execution_count": 98,
   "outputs": [],
   "source": [
    "df_not.reset_index(inplace = True, drop = True)\n",
    "df_onion.reset_index(inplace = True, drop = True)"
   ],
   "metadata": {
    "collapsed": false,
    "pycharm": {
     "name": "#%%\n"
    }
   }
  },
  {
   "cell_type": "code",
   "execution_count": 99,
   "outputs": [],
   "source": [
    "#creating a function that drops rows at random from onion until sample size of onion/notonion is the same\n",
    "for i in range(0, (len(df_onion)-len(df_not))):\n",
    "    number = random.randint(0, len(df_not))\n",
    "    df_onion.drop(number, inplace = True)\n",
    "    df_onion.reset_index(inplace = True, drop = True)"
   ],
   "metadata": {
    "collapsed": false,
    "pycharm": {
     "name": "#%%\n"
    }
   }
  },
  {
   "cell_type": "code",
   "execution_count": 100,
   "outputs": [],
   "source": [
    "#combining the dataset into a single df\n",
    "df = df_onion.append(df_not)\n",
    "df.reset_index(inplace = True, drop = True)"
   ],
   "metadata": {
    "collapsed": false,
    "pycharm": {
     "name": "#%%\n"
    }
   }
  },
  {
   "cell_type": "code",
   "execution_count": 101,
   "outputs": [
    {
     "data": {
      "text/plain": "             tok_lem_titles  labels   doc\nsubreddit                                \nTheOnion               4597    4597  4597\nnottheonion            4597    4597  4597",
      "text/html": "<div>\n<style scoped>\n    .dataframe tbody tr th:only-of-type {\n        vertical-align: middle;\n    }\n\n    .dataframe tbody tr th {\n        vertical-align: top;\n    }\n\n    .dataframe thead th {\n        text-align: right;\n    }\n</style>\n<table border=\"1\" class=\"dataframe\">\n  <thead>\n    <tr style=\"text-align: right;\">\n      <th></th>\n      <th>tok_lem_titles</th>\n      <th>labels</th>\n      <th>doc</th>\n    </tr>\n    <tr>\n      <th>subreddit</th>\n      <th></th>\n      <th></th>\n      <th></th>\n    </tr>\n  </thead>\n  <tbody>\n    <tr>\n      <th>TheOnion</th>\n      <td>4597</td>\n      <td>4597</td>\n      <td>4597</td>\n    </tr>\n    <tr>\n      <th>nottheonion</th>\n      <td>4597</td>\n      <td>4597</td>\n      <td>4597</td>\n    </tr>\n  </tbody>\n</table>\n</div>"
     },
     "execution_count": 101,
     "metadata": {},
     "output_type": "execute_result"
    }
   ],
   "source": [
    "df.groupby('subreddit').count()"
   ],
   "metadata": {
    "collapsed": false,
    "pycharm": {
     "name": "#%%\n"
    }
   }
  },
  {
   "cell_type": "markdown",
   "source": [],
   "metadata": {
    "collapsed": false
   }
  },
  {
   "cell_type": "code",
   "execution_count": 102,
   "outputs": [],
   "source": [
    "#saving final dataset into a new csv\n",
    "df.to_csv('../Datasets/combined_cleaned2.csv', index = False)"
   ],
   "metadata": {
    "collapsed": false,
    "pycharm": {
     "name": "#%%\n"
    }
   }
  },
  {
   "cell_type": "markdown",
   "source": [
    "## Train Test Split"
   ],
   "metadata": {
    "collapsed": false,
    "pycharm": {
     "name": "#%% md\n"
    }
   }
  },
  {
   "cell_type": "code",
   "execution_count": 103,
   "outputs": [],
   "source": [
    "#setting features (X) and variable (y)\n",
    "X = df['tok_lem_titles']\n",
    "y = df['labels']"
   ],
   "metadata": {
    "collapsed": false,
    "pycharm": {
     "name": "#%%\n"
    }
   }
  },
  {
   "cell_type": "code",
   "execution_count": 104,
   "outputs": [],
   "source": [
    "#Train Test split\n",
    "X_train, X_test, y_train, y_test = train_test_split(X,\n",
    "                                                    y,\n",
    "                                                    test_size=0.33,\n",
    "                                                    stratify=y,\n",
    "                                                    random_state=42)"
   ],
   "metadata": {
    "collapsed": false,
    "pycharm": {
     "name": "#%%\n"
    }
   }
  },
  {
   "cell_type": "code",
   "execution_count": 105,
   "outputs": [],
   "source": [
    "#creating function to plot confusion matrix and classification report\n",
    "def basic_metrics(model):\n",
    "    print(f'train accuracy score {round(model.score(X_train, y_train),2)}')\n",
    "    print(f'test accuracy score {round(model.score(X_test, y_test),2)}')\n",
    "    model_preds = model.predict(X_test)\n",
    "\n",
    "    print(classification_report(y_test, model_preds, target_names = ['NotOnion', 'Onion']))\n",
    "\n",
    "    cm = confusion_matrix(y_test, model_preds, labels = model.classes_)\n",
    "    disp = ConfusionMatrixDisplay(confusion_matrix = cm, display_labels = ['not onion', 'onion'])\n",
    "    disp.plot(cmap = 'Blues');"
   ],
   "metadata": {
    "collapsed": false,
    "pycharm": {
     "name": "#%%\n"
    }
   }
  },
  {
   "cell_type": "markdown",
   "source": [
    "## Modeling"
   ],
   "metadata": {
    "collapsed": false,
    "pycharm": {
     "name": "#%% md\n"
    }
   }
  },
  {
   "cell_type": "markdown",
   "source": [
    "To build an nlp model we first have to take the words and convert them into numerical features that the model can process.\n",
    "\n",
    "By using a vectorizer we can take our collection of post titles that we tokenized and lemmatized and convert each unique word into a vector. The vectorizer then assigns a value to each vector for each sample.\n",
    "\n",
    "The value assigned is based on the vectorizer used. Count vectorizer assigns values based the frequency that a term appears in a given document, while tf-idf assigns values based on a score derived from the term frequency multiplied by the log total of the total number of the number of documents divided by the number of documents that contains the term.\n",
    "\n",
    "For our models both vectorizers produced similar results, with countvectorizer producing a slight edge in performance."
   ],
   "metadata": {
    "collapsed": false
   }
  },
  {
   "cell_type": "markdown",
   "source": [
    "#### Models used\n",
    "For classification problems we have a variety of options to choose from. We will first compare the performance of the Logistic Regression Model, K-Nearest Neighbours, Multinomial Niave Bayes and Random Forest based on the default parameters before tuning the models for opitmal performance.\n",
    "\n",
    "First we will build a baseline model that we can use to make comparisons against."
   ],
   "metadata": {
    "collapsed": false
   }
  },
  {
   "cell_type": "markdown",
   "source": [
    "### Baseline Model\n",
    "We'll use sklearn dummy classifier to set up a baseline to assess model performance. Since the sample size for each subreddit is the same we will set the strategy parameter to 'uniform'. Using this strategy the model will apply equal probability to each class and make random predictions. Expected accuracy should be ~50%."
   ],
   "metadata": {
    "collapsed": false,
    "pycharm": {
     "name": "#%% md\n"
    }
   }
  },
  {
   "cell_type": "code",
   "execution_count": 106,
   "outputs": [],
   "source": [
    "#setting up dummy classifier pipe\n",
    "pipe_dumb = Pipeline([\n",
    "    ('cvec', CountVectorizer()),\n",
    "    ('dummy', DummyClassifier(strategy=\"uniform\"))\n",
    "])\n"
   ],
   "metadata": {
    "collapsed": false,
    "pycharm": {
     "name": "#%%\n"
    }
   }
  },
  {
   "cell_type": "code",
   "execution_count": 107,
   "outputs": [
    {
     "data": {
      "text/plain": "Pipeline(steps=[('cvec', CountVectorizer()),\n                ('dummy', DummyClassifier(strategy='uniform'))])"
     },
     "execution_count": 107,
     "metadata": {},
     "output_type": "execute_result"
    }
   ],
   "source": [
    "pipe_dumb.fit(X_train, y_train)"
   ],
   "metadata": {
    "collapsed": false,
    "pycharm": {
     "name": "#%%\n"
    }
   }
  },
  {
   "cell_type": "code",
   "execution_count": 108,
   "outputs": [
    {
     "name": "stdout",
     "output_type": "stream",
     "text": [
      "train accuracy score 0.49\n",
      "test accuracy score 0.51\n",
      "              precision    recall  f1-score   support\n",
      "\n",
      "    NotOnion       0.49      0.49      0.49      1518\n",
      "       Onion       0.49      0.50      0.50      1517\n",
      "\n",
      "    accuracy                           0.49      3035\n",
      "   macro avg       0.49      0.49      0.49      3035\n",
      "weighted avg       0.49      0.49      0.49      3035\n",
      "\n"
     ]
    },
    {
     "data": {
      "text/plain": "<Figure size 432x288 with 2 Axes>",
      "image/png": "[encoded data removed]"
     },
     "metadata": {
      "needs_background": "light"
     },
     "output_type": "display_data"
    }
   ],
   "source": [
    "basic_metrics(pipe_dumb)"
   ],
   "metadata": {
    "collapsed": false,
    "pycharm": {
     "name": "#%%\n"
    }
   }
  },
  {
   "cell_type": "markdown",
   "source": [
    "The dummy model selecting at random results in about 50% accuracy as expected."
   ],
   "metadata": {
    "collapsed": false,
    "pycharm": {
     "name": "#%% md\n"
    }
   }
  },
  {
   "cell_type": "markdown",
   "source": [
    "### Multinomial Niave Bayaes\n",
    "For our 1st model we will use NB as our classifier."
   ],
   "metadata": {
    "collapsed": false
   }
  },
  {
   "cell_type": "code",
   "execution_count": 109,
   "outputs": [],
   "source": [
    "# creating a pipe that 1st vectorizes our data before fitting them on a model\n",
    "pipe_nb = Pipeline([\n",
    "    ('cvec', CountVectorizer()),\n",
    "    ('nb', MultinomialNB())\n",
    "])"
   ],
   "metadata": {
    "collapsed": false,
    "pycharm": {
     "name": "#%%\n"
    }
   }
  },
  {
   "cell_type": "code",
   "execution_count": 110,
   "outputs": [
    {
     "data": {
      "text/plain": "Pipeline(steps=[('cvec', CountVectorizer()), ('nb', MultinomialNB())])"
     },
     "execution_count": 110,
     "metadata": {},
     "output_type": "execute_result"
    }
   ],
   "source": [
    "#fitting the model\n",
    "pipe_nb.fit(X_train, y_train)"
   ],
   "metadata": {
    "collapsed": false,
    "pycharm": {
     "name": "#%%\n"
    }
   }
  },
  {
   "cell_type": "code",
   "execution_count": 111,
   "outputs": [
    {
     "name": "stdout",
     "output_type": "stream",
     "text": [
      "train accuracy score 0.93\n",
      "test accuracy score 0.81\n",
      "              precision    recall  f1-score   support\n",
      "\n",
      "    NotOnion       0.82      0.80      0.81      1518\n",
      "       Onion       0.80      0.82      0.81      1517\n",
      "\n",
      "    accuracy                           0.81      3035\n",
      "   macro avg       0.81      0.81      0.81      3035\n",
      "weighted avg       0.81      0.81      0.81      3035\n",
      "\n"
     ]
    },
    {
     "data": {
      "text/plain": "<Figure size 432x288 with 2 Axes>",
      "image/png": "[encoded data removed]"
     },
     "metadata": {
      "needs_background": "light"
     },
     "output_type": "display_data"
    }
   ],
   "source": [
    "#obtaining metrics and CM for model\n",
    "basic_metrics(pipe_nb)"
   ],
   "metadata": {
    "collapsed": false,
    "pycharm": {
     "name": "#%%\n"
    }
   }
  },
  {
   "cell_type": "markdown",
   "source": [
    "Right away we see that our model performs significantly better than the baseline model. Our MNB model on the training data is able to correctly predict ~80% of samples on the test data.\n",
    "\n",
    "Accuracy score of the model on the training data is notably better on the training data than the test data indicating a degree of overfitting."
   ],
   "metadata": {
    "collapsed": false,
    "pycharm": {
     "name": "#%% md\n"
    }
   }
  },
  {
   "cell_type": "markdown",
   "source": [
    "## Logreg"
   ],
   "metadata": {
    "collapsed": false,
    "pycharm": {
     "name": "#%% md\n"
    }
   }
  },
  {
   "cell_type": "code",
   "execution_count": 112,
   "outputs": [],
   "source": [
    "pipe_lr = Pipeline([\n",
    "    ('cvec', CountVectorizer()),\n",
    "    ('lr', LogisticRegression())\n",
    "])"
   ],
   "metadata": {
    "collapsed": false,
    "pycharm": {
     "name": "#%%\n"
    }
   }
  },
  {
   "cell_type": "code",
   "execution_count": 113,
   "outputs": [
    {
     "data": {
      "text/plain": "Pipeline(steps=[('cvec', CountVectorizer()), ('lr', LogisticRegression())])"
     },
     "execution_count": 113,
     "metadata": {},
     "output_type": "execute_result"
    }
   ],
   "source": [
    "pipe_lr.fit(X_train, y_train)"
   ],
   "metadata": {
    "collapsed": false,
    "pycharm": {
     "name": "#%%\n"
    }
   }
  },
  {
   "cell_type": "code",
   "execution_count": 114,
   "outputs": [
    {
     "name": "stdout",
     "output_type": "stream",
     "text": [
      "train accuracy score 0.98\n",
      "test accuracy score 0.81\n",
      "              precision    recall  f1-score   support\n",
      "\n",
      "    NotOnion       0.81      0.81      0.81      1518\n",
      "       Onion       0.81      0.81      0.81      1517\n",
      "\n",
      "    accuracy                           0.81      3035\n",
      "   macro avg       0.81      0.81      0.81      3035\n",
      "weighted avg       0.81      0.81      0.81      3035\n",
      "\n"
     ]
    },
    {
     "data": {
      "text/plain": "<Figure size 432x288 with 2 Axes>",
      "image/png": "[encoded data removed]"
     },
     "metadata": {
      "needs_background": "light"
     },
     "output_type": "display_data"
    }
   ],
   "source": [
    "#obtaining metrics and CM for model\n",
    "basic_metrics(pipe_lr)"
   ],
   "metadata": {
    "collapsed": false,
    "pycharm": {
     "name": "#%%\n"
    }
   }
  },
  {
   "cell_type": "markdown",
   "source": [
    "Again we see that the model does notably better on the training data compared to the test data.\n",
    "\n",
    "Log Regression performs similarly to our MNB model, performance for this model can also be hypertuned to optimize performance.\n",
    "\n",
    "Based on the difference between the training and test scores there the model seems more overfitted than the previous MNB model"
   ],
   "metadata": {
    "collapsed": false,
    "pycharm": {
     "name": "#%% md\n"
    }
   }
  },
  {
   "cell_type": "markdown",
   "source": [
    "### KNN Model"
   ],
   "metadata": {
    "collapsed": false,
    "pycharm": {
     "name": "#%% md\n"
    }
   }
  },
  {
   "cell_type": "code",
   "execution_count": 115,
   "outputs": [],
   "source": [
    "pipe_knn = Pipeline([\n",
    "    ('cvec', CountVectorizer()),\n",
    "    ('KNN', KNeighborsClassifier())\n",
    "])"
   ],
   "metadata": {
    "collapsed": false,
    "pycharm": {
     "name": "#%%\n"
    }
   }
  },
  {
   "cell_type": "code",
   "execution_count": 116,
   "outputs": [
    {
     "data": {
      "text/plain": "Pipeline(steps=[('cvec', CountVectorizer()), ('KNN', KNeighborsClassifier())])"
     },
     "execution_count": 116,
     "metadata": {},
     "output_type": "execute_result"
    }
   ],
   "source": [
    "pipe_knn.fit(X_train, y_train)"
   ],
   "metadata": {
    "collapsed": false,
    "pycharm": {
     "name": "#%%\n"
    }
   }
  },
  {
   "cell_type": "code",
   "execution_count": 117,
   "outputs": [
    {
     "name": "stdout",
     "output_type": "stream",
     "text": [
      "train accuracy score 0.74\n",
      "test accuracy score 0.59\n",
      "              precision    recall  f1-score   support\n",
      "\n",
      "    NotOnion       0.57      0.72      0.64      1518\n",
      "       Onion       0.63      0.46      0.53      1517\n",
      "\n",
      "    accuracy                           0.59      3035\n",
      "   macro avg       0.60      0.59      0.59      3035\n",
      "weighted avg       0.60      0.59      0.59      3035\n",
      "\n"
     ]
    },
    {
     "data": {
      "text/plain": "<Figure size 432x288 with 2 Axes>",
      "image/png": "[encoded data removed]"
     },
     "metadata": {
      "needs_background": "light"
     },
     "output_type": "display_data"
    }
   ],
   "source": [
    "#obtaining accuracy score for model\n",
    "basic_metrics(pipe_knn)"
   ],
   "metadata": {
    "collapsed": false,
    "pycharm": {
     "name": "#%%\n"
    }
   }
  },
  {
   "cell_type": "markdown",
   "source": [
    "The KNN model barely performs better than our baseline mode.\n",
    "\n",
    "Hypertuning the model is not expected to increase prediction accuracy or f1 score enough to surpass the two previous models. Considering that the number of features might increase when hypertuning (since we are also introducing parameters like n_grams), tuning the model is likely to take a considerable amount of time while yielding weaker performance than our other models.\n",
    "\n",
    "In addition, as feature importance is not possible with KNN. Model interpretability might be an issue when utilising the KNN model.\n",
    "\n",
    "Considering this we will not consider KNN for further evaluation."
   ],
   "metadata": {
    "collapsed": false,
    "pycharm": {
     "name": "#%% md\n"
    }
   }
  },
  {
   "cell_type": "markdown",
   "source": [
    "### Decision Trees"
   ],
   "metadata": {
    "collapsed": false,
    "pycharm": {
     "name": "#%% md\n"
    }
   }
  },
  {
   "cell_type": "code",
   "execution_count": 118,
   "outputs": [],
   "source": [
    "pipe_dt = Pipeline([\n",
    "    ('cvec', CountVectorizer()),\n",
    "    ('dt', DecisionTreeClassifier())\n",
    "])"
   ],
   "metadata": {
    "collapsed": false,
    "pycharm": {
     "name": "#%%\n"
    }
   }
  },
  {
   "cell_type": "code",
   "execution_count": 119,
   "outputs": [
    {
     "data": {
      "text/plain": "Pipeline(steps=[('cvec', CountVectorizer()), ('dt', DecisionTreeClassifier())])"
     },
     "execution_count": 119,
     "metadata": {},
     "output_type": "execute_result"
    }
   ],
   "source": [
    "pipe_dt.fit(X_train, y_train)"
   ],
   "metadata": {
    "collapsed": false,
    "pycharm": {
     "name": "#%%\n"
    }
   }
  },
  {
   "cell_type": "code",
   "execution_count": 120,
   "outputs": [
    {
     "name": "stdout",
     "output_type": "stream",
     "text": [
      "train accuracy score 1.0\n",
      "test accuracy score 0.7\n",
      "              precision    recall  f1-score   support\n",
      "\n",
      "    NotOnion       0.71      0.68      0.70      1518\n",
      "       Onion       0.70      0.73      0.71      1517\n",
      "\n",
      "    accuracy                           0.70      3035\n",
      "   macro avg       0.71      0.70      0.70      3035\n",
      "weighted avg       0.71      0.70      0.70      3035\n",
      "\n"
     ]
    },
    {
     "data": {
      "text/plain": "<Figure size 432x288 with 2 Axes>",
      "image/png": "[encoded data removed]"
     },
     "metadata": {
      "needs_background": "light"
     },
     "output_type": "display_data"
    }
   ],
   "source": [
    "#obtaining accuracy score for model\n",
    "basic_metrics(pipe_dt)"
   ],
   "metadata": {
    "collapsed": false,
    "pycharm": {
     "name": "#%%\n"
    }
   }
  },
  {
   "cell_type": "markdown",
   "source": [
    "Model performance for decision trees is better than the KNN model but notably worse than the LR and MNB models.\n",
    "\n",
    "In our modelling process we are also experimenting with the Random forest classifier which makes classifications by randomly generating a large number of decision tress and combining the outputs of those trees to make a final classification. Considering that random forest classifier has a lower risk of overfitting and is expected to perform well on our relatively large dataset, we will also drop DT from further evaluation."
   ],
   "metadata": {
    "collapsed": false,
    "pycharm": {
     "name": "#%% md\n"
    }
   }
  },
  {
   "cell_type": "markdown",
   "source": [
    "### Random Forest"
   ],
   "metadata": {
    "collapsed": false,
    "pycharm": {
     "name": "#%% md\n"
    }
   }
  },
  {
   "cell_type": "code",
   "execution_count": 121,
   "outputs": [],
   "source": [
    "pipe_rf = Pipeline([\n",
    "    ('cvec', CountVectorizer()),\n",
    "    ('rf', RandomForestClassifier())\n",
    "])"
   ],
   "metadata": {
    "collapsed": false,
    "pycharm": {
     "name": "#%%\n"
    }
   }
  },
  {
   "cell_type": "code",
   "execution_count": 122,
   "outputs": [
    {
     "data": {
      "text/plain": "Pipeline(steps=[('cvec', CountVectorizer()), ('rf', RandomForestClassifier())])"
     },
     "execution_count": 122,
     "metadata": {},
     "output_type": "execute_result"
    }
   ],
   "source": [
    "pipe_rf.fit(X_train, y_train)"
   ],
   "metadata": {
    "collapsed": false,
    "pycharm": {
     "name": "#%%\n"
    }
   }
  },
  {
   "cell_type": "code",
   "execution_count": 123,
   "outputs": [
    {
     "name": "stdout",
     "output_type": "stream",
     "text": [
      "train accuracy score 1.0\n",
      "test accuracy score 0.77\n",
      "              precision    recall  f1-score   support\n",
      "\n",
      "    NotOnion       0.80      0.73      0.76      1518\n",
      "       Onion       0.75      0.82      0.78      1517\n",
      "\n",
      "    accuracy                           0.77      3035\n",
      "   macro avg       0.78      0.77      0.77      3035\n",
      "weighted avg       0.78      0.77      0.77      3035\n",
      "\n"
     ]
    },
    {
     "data": {
      "text/plain": "<Figure size 432x288 with 2 Axes>",
      "image/png": "[encoded data removed]"
     },
     "metadata": {
      "needs_background": "light"
     },
     "output_type": "display_data"
    }
   ],
   "source": [
    "#obtaining accuracy score for model\n",
    "basic_metrics(pipe_rf)"
   ],
   "metadata": {
    "collapsed": false,
    "pycharm": {
     "name": "#%%\n"
    }
   }
  },
  {
   "cell_type": "markdown",
   "source": [
    "### SVM"
   ],
   "metadata": {
    "collapsed": false,
    "pycharm": {
     "name": "#%% md\n"
    }
   }
  },
  {
   "cell_type": "code",
   "execution_count": 124,
   "outputs": [],
   "source": [
    "pipe_svc = Pipeline([\n",
    "    ('cvec', CountVectorizer()),\n",
    "    ('svc', SVC())\n",
    "])"
   ],
   "metadata": {
    "collapsed": false,
    "pycharm": {
     "name": "#%%\n"
    }
   }
  },
  {
   "cell_type": "code",
   "source": [
    "pipe_svc.fit(X_train, y_train)"
   ],
   "metadata": {
    "collapsed": false,
    "pycharm": {
     "name": "#%%\n"
    }
   },
   "execution_count": 125,
   "outputs": [
    {
     "data": {
      "text/plain": "Pipeline(steps=[('cvec', CountVectorizer()), ('svc', SVC())])"
     },
     "execution_count": 125,
     "metadata": {},
     "output_type": "execute_result"
    }
   ]
  },
  {
   "cell_type": "code",
   "execution_count": 126,
   "outputs": [
    {
     "name": "stdout",
     "output_type": "stream",
     "text": [
      "train accuracy score 0.97\n",
      "test accuracy score 0.8\n",
      "              precision    recall  f1-score   support\n",
      "\n",
      "    NotOnion       0.82      0.78      0.80      1518\n",
      "       Onion       0.79      0.83      0.81      1517\n",
      "\n",
      "    accuracy                           0.80      3035\n",
      "   macro avg       0.80      0.80      0.80      3035\n",
      "weighted avg       0.80      0.80      0.80      3035\n",
      "\n"
     ]
    },
    {
     "data": {
      "text/plain": "<Figure size 432x288 with 2 Axes>",
      "image/png": "[encoded data removed]"
     },
     "metadata": {
      "needs_background": "light"
     },
     "output_type": "display_data"
    }
   ],
   "source": [
    "basic_metrics(pipe_svc)"
   ],
   "metadata": {
    "collapsed": false,
    "pycharm": {
     "name": "#%%\n"
    }
   }
  },
  {
   "cell_type": "markdown",
   "source": [
    "SVM produces results that are similar to our other better performing models. SVM tends to be slow on large datasets and since we already have 3 models that perform well (LR, MNB and RF) we will also drop svm from consideration."
   ],
   "metadata": {
    "collapsed": false,
    "pycharm": {
     "name": "#%% md\n"
    }
   }
  },
  {
   "cell_type": "markdown",
   "source": [
    "## Hyperparameter Tuning"
   ],
   "metadata": {
    "collapsed": false,
    "pycharm": {
     "name": "#%% md\n"
    }
   }
  },
  {
   "cell_type": "markdown",
   "source": [
    "The goal for our project is to develop a model that can correctly classify  real and fake news. As such the consequences of false positives and false negatives are equally severe.\n",
    "\n",
    "A suitable metric for our model would have to provide a balance between precision and recall. F1 score would works well for our purposes as it can tell us how precise and robust our model in a single metric.\n",
    "\n",
    "Hyperparameter tuning is the process of iterating through various combinination of hyperparamets within our model to determine the best combination that maximises our chosen metric.\n",
    "\n",
    "By using gridsearchcv we can tune both the parameters for our vectorizer and the various models to achieve the best f1 score."
   ],
   "metadata": {
    "collapsed": false,
    "pycharm": {
     "name": "#%% md\n"
    }
   }
  },
  {
   "cell_type": "code",
   "execution_count": 129,
   "outputs": [],
   "source": [
    "#creating a function that creates a gridsearch\n",
    "def metrics_func(model):\n",
    "\n",
    "    #model scoring\n",
    "    print(f'Best f1 score for model is {model.best_score_}')\n",
    "    print(f'test f1 score {round(model.score(X_test, y_test),2)}')\n",
    "    print(f'Best params is {model.best_params_}')\n",
    "\n",
    "    #confusion matrix\n",
    "    preds = model.predict(X_test)\n",
    "    cm = confusion_matrix(y_test, preds, labels = model.classes_)\n",
    "    disp = ConfusionMatrixDisplay(confusion_matrix = cm, display_labels = ['not onion', 'onion'])\n",
    "    disp.plot(cmap = 'Blues');\n",
    "\n",
    "    # classification report\n",
    "    print(classification_report(y_test, preds, target_names = ['NotOnion', 'Onion']))\n",
    "\n",
    "def roc_plot(model, model_name):\n",
    "    #fpr, tpr, predicted proba for AUC plot\n",
    "    pred_proba = model.predict_proba(X_test)\n",
    "    fpr, tpr, _ = roc_curve(y_test, pred_proba[:,1])\n",
    "    roc_auc = auc(fpr, tpr)\n",
    "    #AUC plotting\n",
    "    plt.title('Receiver Operating Characteristic for' +model_name)\n",
    "    plt.plot(fpr, tpr, 'b', label = 'AUC = %0.2f' % roc_auc)\n",
    "    plt.legend(loc = 'lower right')\n",
    "    plt.plot([0, 1], [0, 1],'r--')\n",
    "    plt.xlim([0, 1])\n",
    "    plt.ylim([0, 1])\n",
    "    plt.ylabel('True Positive Rate')\n",
    "    plt.xlabel('False Positive Rate')\n",
    "    plt.show()\n"
   ],
   "metadata": {
    "collapsed": false,
    "pycharm": {
     "name": "#%%\n"
    }
   }
  },
  {
   "cell_type": "markdown",
   "source": [
    "### Tuning for MNB"
   ],
   "metadata": {
    "collapsed": false,
    "pycharm": {
     "name": "#%% md\n"
    }
   }
  },
  {
   "cell_type": "code",
   "execution_count": 130,
   "outputs": [],
   "source": [
    "## Parameters to tune for nb model\n",
    "nb_params = {\n",
    "    'nb__alpha': [i for i in np.linspace(0.3, 0.7, 3)],\n",
    "    'nb__fit_prior': [True, False]\n",
    "}\n",
    "# Parameters to tune cvec\n",
    "cvec_params = {\n",
    "    'cvec__max_features': [5_000, 7000, None],\n",
    "    'cvec__min_df': [i for i in range(1, 3, 1)],\n",
    "    'cvec__max_df': [i for i in np.linspace(0.3, 0.8, 5)],\n",
    "    'cvec__ngram_range': [(1,i) for i in range (1,5)],\n",
    "    'cvec__stop_words':[None, stopwords]#EDA revealed that there are significant number of stopwords in the dataset and our list of stopwords can help reduce the number of features and improve performance\n",
    "}"
   ],
   "metadata": {
    "collapsed": false,
    "pycharm": {
     "name": "#%%\n"
    }
   }
  },
  {
   "cell_type": "code",
   "execution_count": 131,
   "outputs": [],
   "source": [
    "#combining the countvectorizer parameters and mnb params into a single dictionary\n",
    "nb_params = nb_params|cvec_params"
   ],
   "metadata": {
    "collapsed": false,
    "pycharm": {
     "name": "#%%\n"
    }
   }
  },
  {
   "cell_type": "code",
   "execution_count": 132,
   "outputs": [],
   "source": [
    "gs_nb = GridSearchCV(pipe_nb,\n",
    "                     param_grid=nb_params,\n",
    "                     cv=5,\n",
    "                     n_jobs=-1,\n",
    "                     scoring = 'f1')"
   ],
   "metadata": {
    "collapsed": false,
    "pycharm": {
     "name": "#%%\n"
    }
   }
  },
  {
   "cell_type": "code",
   "execution_count": null,
   "outputs": [],
   "source": [
    "%%time\n",
    "#fitting the model\n",
    "gs_nb.fit(X_train, y_train)"
   ],
   "metadata": {
    "collapsed": false,
    "pycharm": {
     "name": "#%%\n",
     "is_executing": true
    }
   }
  },
  {
   "cell_type": "code",
   "execution_count": null,
   "outputs": [],
   "source": [
    "metrics_func(gs_nb)"
   ],
   "metadata": {
    "collapsed": false,
    "pycharm": {
     "name": "#%%\n",
     "is_executing": true
    }
   }
  },
  {
   "cell_type": "code",
   "execution_count": null,
   "outputs": [],
   "source": [
    "roc_plot(gs_nb, 'Multinomial Niave Bayes')"
   ],
   "metadata": {
    "collapsed": false,
    "pycharm": {
     "name": "#%%\n",
     "is_executing": true
    }
   }
  },
  {
   "cell_type": "markdown",
   "source": [
    "Plotting a \"Receiver Operating Curve\" allows us to visualise the how the model performs as at various classification thresholds and the trade off between True Positive rate and False Positive rate. A ROC curve also allows us to calculate the Area Under Curve that provides us with an aggregated measure of model performance across all classification thresholds."
   ],
   "metadata": {
    "collapsed": false,
    "pycharm": {
     "name": "#%% md\n"
    }
   }
  },
  {
   "cell_type": "code",
   "execution_count": null,
   "outputs": [],
   "source": [
    "#feature extraction\n",
    "feature_importances_notonion = gs_nb.best_estimator_.steps[1][1].feature_log_prob_[0, :]"
   ],
   "metadata": {
    "collapsed": false,
    "pycharm": {
     "name": "#%%\n",
     "is_executing": true
    }
   }
  },
  {
   "cell_type": "code",
   "execution_count": null,
   "outputs": [],
   "source": [
    "feature_importances_onion = gs_nb.best_estimator_.steps[1][1].feature_log_prob_[1, :]"
   ],
   "metadata": {
    "collapsed": false,
    "pycharm": {
     "name": "#%%\n",
     "is_executing": true
    }
   }
  },
  {
   "cell_type": "code",
   "execution_count": null,
   "outputs": [],
   "source": [
    "#storing feature log_probs into a dataframe - not_onion\n",
    "df_features_notonion = pd.DataFrame(data = feature_importances_notonion)\n",
    "df_features_notonion = df_features_notonion.sort_values(by = 0, ascending = True).tail(10)"
   ],
   "metadata": {
    "collapsed": false,
    "pycharm": {
     "name": "#%%\n",
     "is_executing": true
    }
   }
  },
  {
   "cell_type": "code",
   "execution_count": null,
   "outputs": [],
   "source": [
    "#storing feature log_probs into a dataframe - onion\n",
    "df_features_onion = pd.DataFrame(data = feature_importances_onion)\n",
    "df_features_onion = df_features_onion.sort_values(by = 0, ascending = True).tail(10)"
   ],
   "metadata": {
    "collapsed": false,
    "pycharm": {
     "name": "#%%\n",
     "is_executing": true
    }
   }
  },
  {
   "cell_type": "code",
   "execution_count": null,
   "outputs": [],
   "source": [],
   "metadata": {
    "collapsed": false,
    "pycharm": {
     "name": "#%%\n",
     "is_executing": true
    }
   }
  },
  {
   "cell_type": "code",
   "execution_count": null,
   "outputs": [],
   "source": [],
   "metadata": {
    "collapsed": false,
    "pycharm": {
     "name": "#%%\n",
     "is_executing": true
    }
   }
  },
  {
   "cell_type": "code",
   "execution_count": null,
   "outputs": [],
   "source": [
    "#replacing index with feature names\n",
    "for index in df_features_combine.index:\n",
    "    df_features_combine.rename(index = {index: feature_names.loc[index, 0]}, inplace = True)\n",
    "for index in df_features_notonion.index:\n",
    "    df_features_notonion.rename(index = {index: feature_names.loc[index, 0]}, inplace = True)"
   ],
   "metadata": {
    "collapsed": false,
    "pycharm": {
     "name": "#%%\n",
     "is_executing": true
    }
   }
  },
  {
   "cell_type": "code",
   "execution_count": null,
   "outputs": [],
   "source": [
    "#plotting important features for nottheonion\n",
    "plt.figure(figsize=(5, 5))\n",
    "bar = sns.barplot(data = df_features_notonion, x = df_features_notonion[0].apply(lambda x: np.exp(x)), y =df_features_notonion.index)\n",
    "bar.tick_params(labelsize = 10)\n",
    "bar.set_xlabel('probabilities')\n",
    "bar.set_ylabel('word')\n",
    "bar.set_xticks([0.000, 0.001, 0.002, 0.003, 0.004])\n",
    "bar.set_title('Words with highest probabilities: Not The Onion');"
   ],
   "metadata": {
    "collapsed": false,
    "pycharm": {
     "name": "#%%\n",
     "is_executing": true
    }
   }
  },
  {
   "cell_type": "code",
   "execution_count": null,
   "outputs": [],
   "source": [
    "#plotting important features for theonion\n",
    "plt.figure(figsize=(5, 5))\n",
    "bar = sns.barplot(data = df_features_onion, x = df_features_onion[0].apply(lambda x: np.exp(x)), y =df_features_onion.index)\n",
    "bar.tick_params(labelsize = 10)\n",
    "bar.set_xlabel('probabilities')\n",
    "bar.set_ylabel('word')\n",
    "bar.set_xticks([0.000, 0.001, 0.002, 0.003, 0.004])\n",
    "bar.set_title('Words with highest probabilities: The Onion');"
   ],
   "metadata": {
    "collapsed": false,
    "pycharm": {
     "name": "#%%\n",
     "is_executing": true
    }
   }
  },
  {
   "cell_type": "markdown",
   "source": [
    "### Log reg (hypertuning)"
   ],
   "metadata": {
    "collapsed": false,
    "pycharm": {
     "name": "#%% md\n"
    }
   }
  },
  {
   "cell_type": "code",
   "execution_count": null,
   "outputs": [],
   "source": [
    "# setting parameters for log reg for tuning\n",
    "lr_params = {\n",
    "    'lr__penalty':['l2', 'none'],#solver lbfgs solver only accepts l2 or none\n",
    "    'lr__C': [i for i in np.linspace(0.1,1,5)]\n",
    "}\n",
    "\n",
    "# combining lr params with cvec params\n",
    "lr_params = lr_params|cvec_params"
   ],
   "metadata": {
    "collapsed": false,
    "pycharm": {
     "name": "#%%\n",
     "is_executing": true
    }
   }
  },
  {
   "cell_type": "code",
   "execution_count": null,
   "outputs": [],
   "source": [
    "gs_lr = GridSearchCV(pipe_lr,\n",
    "                     param_grid=lr_params,\n",
    "                     cv=5,\n",
    "                     n_jobs=-1,\n",
    "                     scoring = 'f1')"
   ],
   "metadata": {
    "collapsed": false,
    "pycharm": {
     "name": "#%%\n",
     "is_executing": true
    }
   }
  },
  {
   "cell_type": "code",
   "execution_count": null,
   "outputs": [],
   "source": [
    "%%time\n",
    "gs_lr.fit(X_train, y_train)"
   ],
   "metadata": {
    "collapsed": false,
    "pycharm": {
     "name": "#%%\n",
     "is_executing": true
    }
   }
  },
  {
   "cell_type": "markdown",
   "source": [],
   "metadata": {
    "collapsed": false,
    "pycharm": {
     "name": "#%% md\n"
    }
   }
  },
  {
   "cell_type": "code",
   "execution_count": null,
   "outputs": [],
   "source": [
    "#getting metrics and best params\n",
    "metrics_func(gs_lr)"
   ],
   "metadata": {
    "collapsed": false,
    "pycharm": {
     "name": "#%%\n",
     "is_executing": true
    }
   }
  },
  {
   "cell_type": "code",
   "execution_count": null,
   "outputs": [],
   "source": [
    "#plotting roc\n",
    "roc_plot(gs_lr, 'Logistic Regression')"
   ],
   "metadata": {
    "collapsed": false,
    "pycharm": {
     "name": "#%%\n",
     "is_executing": true
    }
   }
  },
  {
   "cell_type": "code",
   "execution_count": null,
   "outputs": [],
   "source": [
    "#obtaining regression coefficients\n",
    "lr_coef = gs_lr.best_estimator_.steps[1][1].coef_"
   ],
   "metadata": {
    "collapsed": false,
    "pycharm": {
     "name": "#%%\n",
     "is_executing": true
    }
   }
  },
  {
   "cell_type": "code",
   "execution_count": null,
   "outputs": [],
   "source": [
    "#saving coefs into a df\n",
    "lr_coef = pd.DataFrame(data = lr_coef)\n"
   ],
   "metadata": {
    "collapsed": false,
    "pycharm": {
     "name": "#%%\n",
     "is_executing": true
    }
   }
  },
  {
   "cell_type": "code",
   "execution_count": null,
   "outputs": [],
   "source": [
    "#as features are currently stored in a single row we will melt the dataframe into just 1 column\n",
    "lr_coef =lr_coef.melt(ignore_index=True).drop(columns = ['variable'])\n",
    "# next we will extract the top and bottom features into a new df\n",
    "top_features_lr = lr_coef.sort_values(by = 'value', ascending = True).head(10)\n",
    "top_bot_features_lr = top_features_lr.append(lr_coef.sort_values(by = 'value', ascending = True).tail(10))"
   ],
   "metadata": {
    "collapsed": false,
    "pycharm": {
     "name": "#%%\n",
     "is_executing": true
    }
   }
  },
  {
   "cell_type": "code",
   "execution_count": null,
   "outputs": [],
   "source": [
    "#storing feature names\n",
    "feature_names_lr = gs_lr.best_estimator_.steps[0][1].get_feature_names_out()\n",
    "feature_names_lr = pd.DataFrame(data = feature_names)"
   ],
   "metadata": {
    "collapsed": false,
    "pycharm": {
     "name": "#%%\n",
     "is_executing": true
    }
   }
  },
  {
   "cell_type": "code",
   "execution_count": null,
   "outputs": [],
   "source": [
    "# extracting feature names for top and bottom features\n",
    "for index in top_bot_features_lr.index:\n",
    "    top_bot_features_lr.rename(index = {index: feature_names_lr.loc[index, 0]}, inplace = True)"
   ],
   "metadata": {
    "collapsed": false,
    "pycharm": {
     "name": "#%%\n",
     "is_executing": true
    }
   }
  },
  {
   "cell_type": "code",
   "execution_count": null,
   "outputs": [],
   "source": [],
   "metadata": {
    "collapsed": false,
    "pycharm": {
     "name": "#%%\n",
     "is_executing": true
    }
   }
  },
  {
   "cell_type": "code",
   "execution_count": null,
   "outputs": [],
   "source": [
    "#plot coefficients\n",
    "plt.figure(figsize=(5, 5))\n",
    "bar = sns.barplot(data = top_bot_features_lr, x = top_bot_features_lr['value'], y =top_bot_features_lr.index)\n",
    "bar.set_title(\"Words with largest absolute coefficients\");"
   ],
   "metadata": {
    "collapsed": false,
    "pycharm": {
     "name": "#%%\n",
     "is_executing": true
    }
   }
  },
  {
   "cell_type": "markdown",
   "source": [
    "We didnt explore Trigrams in our earlier EDA, but based on the model most of the features that have large coefficients tend to be bi grams or trigrams. This would imply that the model may be placing emphasis on terms that are only used in very specific circumstances (e.g. 32 birthday fan).\n",
    "\n",
    "On the other hand generic terms like 'australia the' or 'after eat' have lower coefficients indicating that the model is placing little focus them."
   ],
   "metadata": {
    "collapsed": false,
    "pycharm": {
     "name": "#%% md\n"
    }
   }
  },
  {
   "cell_type": "markdown",
   "source": [
    "### Random forest - Hyperparameter tuning"
   ],
   "metadata": {
    "collapsed": false,
    "pycharm": {
     "name": "#%% md\n"
    }
   }
  },
  {
   "cell_type": "code",
   "execution_count": null,
   "outputs": [],
   "source": [
    "# For convinience, only the best features are kept additional parameters that were part of the original hyperparam tuning commented out.\n",
    "rf_params = {\n",
    "    'rf__n_estimators': [300], #200\n",
    "    'rf__max_depth': [None], #5, 10\n",
    "    'rf__criterion': ['gini'],\n",
    "    'rf__min_samples_split': [4], #2, 6\n",
    "    'rf__min_samples_leaf': [1], #3, 5\n",
    "    'rf__max_features': ['sqrt',None]\n",
    "}"
   ],
   "metadata": {
    "collapsed": false,
    "pycharm": {
     "name": "#%%\n",
     "is_executing": true
    }
   }
  },
  {
   "cell_type": "code",
   "execution_count": null,
   "outputs": [],
   "source": [
    "rf_params = rf_params|cvec_params"
   ],
   "metadata": {
    "collapsed": false,
    "pycharm": {
     "name": "#%%\n",
     "is_executing": true
    }
   }
  },
  {
   "cell_type": "code",
   "execution_count": null,
   "outputs": [],
   "source": [
    "gs_rf = GridSearchCV(pipe_rf,\n",
    "                     param_grid=rf_params,\n",
    "                     cv=5,\n",
    "                     n_jobs=-1,\n",
    "                     scoring = 'f1'\n",
    "                     )"
   ],
   "metadata": {
    "collapsed": false,
    "pycharm": {
     "name": "#%%\n",
     "is_executing": true
    }
   }
  },
  {
   "cell_type": "code",
   "execution_count": null,
   "outputs": [],
   "source": [
    "%%time\n",
    "gs_rf.fit(X_train, y_train)"
   ],
   "metadata": {
    "collapsed": false,
    "pycharm": {
     "name": "#%%\n",
     "is_executing": true
    }
   }
  },
  {
   "cell_type": "code",
   "execution_count": null,
   "outputs": [],
   "source": [
    "metrics_func(gs_rf)"
   ],
   "metadata": {
    "collapsed": false,
    "pycharm": {
     "name": "#%%\n",
     "is_executing": true
    }
   }
  },
  {
   "cell_type": "code",
   "execution_count": null,
   "outputs": [],
   "source": [
    "roc_plot(gs_rf, 'Random Forest')"
   ],
   "metadata": {
    "collapsed": false,
    "pycharm": {
     "name": "#%%\n",
     "is_executing": true
    }
   }
  },
  {
   "cell_type": "code",
   "execution_count": null,
   "outputs": [],
   "source": [],
   "metadata": {
    "collapsed": false,
    "pycharm": {
     "name": "#%%\n",
     "is_executing": true
    }
   }
  },
  {
   "cell_type": "code",
   "execution_count": null,
   "outputs": [],
   "source": [
    "rf_important_features = gs_rf.best_estimator_.steps[1][1].feature_importances_"
   ],
   "metadata": {
    "collapsed": false,
    "pycharm": {
     "name": "#%%\n",
     "is_executing": true
    }
   }
  },
  {
   "cell_type": "code",
   "execution_count": null,
   "outputs": [],
   "source": [
    "feature_names_rf = gs_rf.best_estimator_.steps[0][1].get_feature_names_out()\n",
    "feature_names_rf = pd.DataFrame(data = feature_names_rf)"
   ],
   "metadata": {
    "collapsed": false,
    "pycharm": {
     "name": "#%%\n",
     "is_executing": true
    }
   }
  },
  {
   "cell_type": "code",
   "execution_count": null,
   "outputs": [],
   "source": [
    "rf_important_features = pd.DataFrame(data = rf_important_features, index = feature_names_rf.loc[:,0], columns = ['relative_importance'])"
   ],
   "metadata": {
    "collapsed": false,
    "pycharm": {
     "name": "#%%\n",
     "is_executing": true
    }
   }
  },
  {
   "cell_type": "code",
   "execution_count": null,
   "outputs": [],
   "source": [
    "rf_features_top = rf_important_features.sort_values(by ='relative_importance', ascending = False).head(10)"
   ],
   "metadata": {
    "collapsed": false,
    "pycharm": {
     "name": "#%%\n",
     "is_executing": true
    }
   }
  },
  {
   "cell_type": "code",
   "execution_count": null,
   "outputs": [],
   "source": [
    "plt.figure(figsize=(5, 5))\n",
    "plot = sns.barplot(data = rf_features_top, x = rf_features_top['relative_importance'], y =rf_features_top.index)\n",
    "plot.set_xlabel('Relative importance')\n",
    "plot.set_ylabel('Word')\n",
    "plot.set_title('Important features');"
   ],
   "metadata": {
    "collapsed": false,
    "pycharm": {
     "name": "#%%\n",
     "is_executing": true
    }
   }
  },
  {
   "cell_type": "markdown",
   "source": [
    "### Model Evaluation"
   ],
   "metadata": {
    "collapsed": false,
    "pycharm": {
     "name": "#%% md\n"
    }
   }
  },
  {
   "cell_type": "code",
   "execution_count": null,
   "outputs": [],
   "source": [
    "# list of models tuned\n",
    "models = [gs_nb, gs_lr, gs_rf]"
   ],
   "metadata": {
    "collapsed": false,
    "pycharm": {
     "name": "#%%\n",
     "is_executing": true
    }
   }
  },
  {
   "cell_type": "code",
   "execution_count": null,
   "outputs": [],
   "source": [
    "#creating a dataframe with desired model metrics\n",
    "model_df = pd.DataFrame(columns=[\"model\", \"train_f1\", \"test_f1\", \"var\"])"
   ],
   "metadata": {
    "collapsed": false,
    "pycharm": {
     "name": "#%%\n",
     "is_executing": true
    }
   }
  },
  {
   "cell_type": "code",
   "execution_count": null,
   "outputs": [],
   "source": [
    "# look to colate scores\n",
    "for model in models:\n",
    "    #adding model name it df\n",
    "    model_df['model'] = [f'{model.estimator.steps[1][0]}' for model in models]\n",
    "    #adding training f1\n",
    "    model_df['train_f1'] = [round(model.best_score_,3) for model in models]\n",
    "\n",
    "    #add test f1\n",
    "    model_df['test_f1'] = [round(model.score(X_test, y_test),3) for model in models]\n",
    "\n",
    "    #difference between train, test score\n",
    "    model_df[\"var\"] = model_df[\"train_f1\"] - model_df['test_f1']"
   ],
   "metadata": {
    "collapsed": false,
    "pycharm": {
     "name": "#%%\n",
     "is_executing": true
    }
   }
  },
  {
   "cell_type": "code",
   "execution_count": null,
   "outputs": [],
   "source": [
    "model_df"
   ],
   "metadata": {
    "collapsed": false,
    "pycharm": {
     "name": "#%%\n",
     "is_executing": true
    }
   }
  },
  {
   "cell_type": "markdown",
   "source": [
    "As mentioned earlier, f1 gives us a balance between precision and recall since both FPs and FNs would result in equally severe consequences. To compare the models we have collated the train and test f1 scores in a table.\n",
    "\n",
    "After tuning the Niave Bayes model seems to perform the best of the 3 models and compared to LR, it has a slightly smaller variance between the train and test data."
   ],
   "metadata": {
    "collapsed": false,
    "pycharm": {
     "name": "#%% md\n"
    }
   }
  },
  {
   "cell_type": "markdown",
   "source": [
    "##### ROC Curve"
   ],
   "metadata": {
    "collapsed": false,
    "pycharm": {
     "name": "#%% md\n"
    }
   }
  },
  {
   "cell_type": "markdown",
   "source": [
    "Plotting a \"Receiver Operating Curve\" allows us to visualise the how the model performs as at various classification thresholds and the trade off between True Positive rate and False Positive rate. A ROC curve also allows us to calculate the Area Under Curve that provides us with an aggregated measure of model performance across all classification thresholds."
   ],
   "metadata": {
    "collapsed": false,
    "pycharm": {
     "name": "#%% md\n"
    }
   }
  },
  {
   "cell_type": "code",
   "execution_count": null,
   "outputs": [],
   "source": [
    "roc_plot(gs_nb, \" MNB\")"
   ],
   "metadata": {
    "collapsed": false,
    "pycharm": {
     "name": "#%%\n",
     "is_executing": true
    }
   }
  },
  {
   "cell_type": "markdown",
   "source": [
    "The ROC plot shows a fairly smooth curve with an AUC of 0.90 indicating that the model is a 90% chance that the model can distinguish between a post from the onion and not the onion.\n",
    "\n",
    "The optimal classification threshold occurs at the apex of the curve at ~0.8 where we can maximise True positives while keeping FPR at a manageable level.\n"
   ],
   "metadata": {
    "collapsed": false,
    "pycharm": {
     "name": "#%% md\n"
    }
   }
  },
  {
   "cell_type": "markdown",
   "source": [
    "### Important features - MNB"
   ],
   "metadata": {
    "collapsed": false,
    "pycharm": {
     "name": "#%% md\n"
    }
   }
  },
  {
   "cell_type": "code",
   "execution_count": null,
   "outputs": [],
   "source": [
    "#feature extraction\n",
    "feature_importances_notonion = gs_nb.best_estimator_.steps[1][1].feature_log_prob_[0, :]\n",
    "feature_importances_onion = gs_nb.best_estimator_.steps[1][1].feature_log_prob_[1, :]"
   ],
   "metadata": {
    "collapsed": false,
    "pycharm": {
     "name": "#%%\n",
     "is_executing": true
    }
   }
  },
  {
   "cell_type": "code",
   "execution_count": null,
   "outputs": [],
   "source": [
    "#storing feature log_probs into a dataframe - not_onion\n",
    "df_features_notonion = pd.DataFrame(data = feature_importances_notonion)\n",
    "df_features_notonion = df_features_notonion.sort_values(by = 0, ascending = True)"
   ],
   "metadata": {
    "collapsed": false,
    "pycharm": {
     "name": "#%%\n",
     "is_executing": true
    }
   }
  },
  {
   "cell_type": "code",
   "execution_count": null,
   "outputs": [],
   "source": [
    "#storing feature log_probs into a dataframe - onion\n",
    "df_features_onion = pd.DataFrame(data = feature_importances_onion)\n",
    "df_features_onion = df_features_onion.sort_values(by = 0, ascending = True)"
   ],
   "metadata": {
    "collapsed": false,
    "pycharm": {
     "name": "#%%\n",
     "is_executing": true
    }
   }
  },
  {
   "cell_type": "code",
   "execution_count": null,
   "outputs": [],
   "source": [
    "#combining the features with the highest difference between P(1|feature) and P(0|feature)\n",
    "df_features_combine = df_features_notonion.merge(right = df_features_onion, right_index=True, left_index = True )\n",
    "df_features_combine.rename(columns = {'0_x':'prob_notonion', '0_y' :'prob_onion'}, inplace = True)\n",
    "df_features_combine['prob_diff'] = np.exp(df_features_combine['prob_notonion']) - np.exp(df_features_combine['prob_onion'])"
   ],
   "metadata": {
    "collapsed": false,
    "pycharm": {
     "name": "#%%\n",
     "is_executing": true
    }
   }
  },
  {
   "cell_type": "code",
   "execution_count": null,
   "outputs": [],
   "source": [
    "df_features_top = df_features_combine.sort_values(by = 'prob_diff', ascending = False)[['prob_diff']].head(10)"
   ],
   "metadata": {
    "collapsed": false,
    "pycharm": {
     "name": "#%%\n",
     "is_executing": true
    }
   }
  },
  {
   "cell_type": "code",
   "execution_count": null,
   "outputs": [],
   "source": [
    "df_features_top = df_features_top.append(df_features_combine.sort_values(by = 'prob_diff', ascending = False)[['prob_diff']].tail(10))"
   ],
   "metadata": {
    "collapsed": false,
    "pycharm": {
     "name": "#%%\n",
     "is_executing": true
    }
   }
  },
  {
   "cell_type": "code",
   "execution_count": null,
   "outputs": [],
   "source": [
    "df_features_top"
   ],
   "metadata": {
    "collapsed": false,
    "pycharm": {
     "name": "#%%\n",
     "is_executing": true
    }
   }
  },
  {
   "cell_type": "code",
   "execution_count": null,
   "outputs": [],
   "source": [
    "#getting feature names\n",
    "feature_names = gs_nb.best_estimator_.steps[0][1].get_feature_names_out()\n",
    "feature_names = pd.DataFrame(data = feature_names)"
   ],
   "metadata": {
    "collapsed": false,
    "pycharm": {
     "name": "#%%\n",
     "is_executing": true
    }
   }
  },
  {
   "cell_type": "code",
   "execution_count": null,
   "outputs": [],
   "source": [
    "# getting feature text\n",
    "for index in df_features_top.index:\n",
    "    df_features_top.rename(index = {index: feature_names.loc[index, 0]}, inplace = True)"
   ],
   "metadata": {
    "collapsed": false,
    "pycharm": {
     "name": "#%%\n",
     "is_executing": true
    }
   }
  },
  {
   "cell_type": "code",
   "execution_count": null,
   "outputs": [],
   "source": [
    "plt.figure(figsize=(5, 5))\n",
    "bar = sns.barplot(data = df_features_top, x = df_features_top.prob_diff, y =df_features_top.index)\n",
    "bar.tick_params(labelsize = 10)\n",
    "bar.set_xlabel('probabilities')\n",
    "bar.set_ylabel('word')\n",
    "#bar.set_xticks([0.000, 0.001, 0.002, 0.003, 0.004])\n",
    "bar.set_title('Words with highest difference in probabilties between notonion - onion');"
   ],
   "metadata": {
    "collapsed": false,
    "pycharm": {
     "name": "#%%\n",
     "is_executing": true
    }
   }
  },
  {
   "cell_type": "markdown",
   "source": [
    "Comparing difference in probabilities of features between the 2 subreddits. We can see that the difference mostly negligible for example item 1 'in', where it is only 0.1% more likely to appear in Not the Onion and the Onion. Due to the large number of features we run into issues where numbers are so small that it is hard to make meaningful comparisons which might affect interpretability of the model and identified features/words."
   ],
   "metadata": {
    "collapsed": false,
    "pycharm": {
     "name": "#%% md\n"
    }
   }
  },
  {
   "cell_type": "code",
   "source": [
    "#plot coefficients\n",
    "plt.figure(figsize=(5, 5))\n",
    "bar = sns.barplot(data = top_bot_features_lr, x = top_bot_features_lr['value'], y =top_bot_features_lr.index)\n",
    "bar.set_title(\"Words with largest absolute coefficients - LR\");"
   ],
   "metadata": {
    "collapsed": false,
    "pycharm": {
     "name": "#%%\n",
     "is_executing": true
    }
   },
   "execution_count": null,
   "outputs": []
  },
  {
   "cell_type": "markdown",
   "source": [
    "Compared to regression coefficients produced by the LR model that are more easily interpreted. As previously discussed we can see that the lr models places emphasis on unique bi and trigrams like 'Autonomous weapon or' (e.g. drones) that would rarely appear in typical news stories, while terms like 'speeding' which appears fairly commonly in news articles on road accidents is associated with not the onion."
   ],
   "metadata": {
    "collapsed": false,
    "pycharm": {
     "name": "#%% md\n"
    }
   }
  },
  {
   "cell_type": "markdown",
   "source": [
    "## Conclusion"
   ],
   "metadata": {
    "collapsed": false,
    "pycharm": {
     "name": "#%% md\n"
    }
   }
  },
  {
   "cell_type": "markdown",
   "source": [
    "Overall the MNB, LR and RF models have generally comparable with f1 scores of ~ 0.8.\n",
    "\n",
    "Ultimately, Multinomial Naive Bayes was chosen as the model was able to achieve the highest f1 score of 0.82. Plotting the ROC curve the model boasts an AUC of 0.9 or a 90% chance that it can distinguish between a post from the Onion and not the Onion.\n",
    "\n",
    "Considering that the model is intended to be used as a way to distinguish between real and fake news, the stakes are relatively high since a single misclassified article/headline could have severe and far reaching consequences.\n",
    "\n",
    "With a 20% error rate it would be risky to use the model to classify between real and fake news as it currently is and margin of error should be lowered further before using the model to classify between real and fake news.\n",
    "\n",
    "In addition, as the headlines for fictional articles was taken from a single source, the model could be overfit to the the editorial choices (like content, word selection) specific to the Onion which could negatively impact models ability to process fake news from other sources."
   ],
   "metadata": {
    "collapsed": false,
    "pycharm": {
     "name": "#%% md\n"
    }
   }
  },
  {
   "cell_type": "markdown",
   "source": [],
   "metadata": {
    "collapsed": false
   }
  },
  {
   "cell_type": "markdown",
   "source": [
    "Further improvements to lower the margin of error is recommended.\n",
    "\n",
    "First, additional samples of both real and fake news headlines from a variety of sources should be collected and used to develop the model further. A good place to start would be subreddits like 'worldnews' and 'news' that focus on news from around the world and 'America'.\n",
    "\n",
    "Secondly, the model is built based on data collected before 01 Jan 2022, as such the relevancy of the corpus used to train the model will become an issue as time passes and new global developments (such as covid) dominate future news cycles or with the introduction of new terminology (such as the shift from the term sars-cov2 to the use of covid 19).\n",
    "\n",
    "Finally, the Multinomial Naive Bayes is not ideal when interpretability is required and when the corpus is expected to grow. For MNB feature log probs become problematic when there is a large number of unique features that result in very small probabilities for a given class, this problem is likely to grow as additional data points with new terms are introduced.\n",
    "\n",
    "In contrast, switching to a model like logistic regression, where feature regression coefficients are easier to interpret and access different regularization algorithms that can mitigate the impact of increasing the language corpus can be mitigated, would be worth considering in the future."
   ],
   "metadata": {
    "collapsed": false,
    "pycharm": {
     "name": "#%% md\n"
    }
   }
  }
 ],
 "metadata": {
  "kernelspec": {
   "display_name": "Python 3",
   "language": "python",
   "name": "python3"
  },
  "language_info": {
   "codemirror_mode": {
    "name": "ipython",
    "version": 2
   },
   "file_extension": ".py",
   "mimetype": "text/x-python",
   "name": "python",
   "nbconvert_exporter": "python",
   "pygments_lexer": "ipython2",
   "version": "2.7.6"
  }
 },
 "nbformat": 4,
 "nbformat_minor": 0
}