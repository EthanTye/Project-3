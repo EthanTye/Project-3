{
 "cells": [
  {
   "cell_type": "markdown",
   "source": [
    "# Notebook 2"
   ],
   "metadata": {
    "collapsed": false,
    "pycharm": {
     "name": "#%% md\n"
    }
   }
  },
  {
   "cell_type": "markdown",
   "source": [
    "### Part 2 EDA and cleaning"
   ],
   "metadata": {
    "collapsed": false,
    "pycharm": {
     "name": "#%% md\n"
    }
   }
  },
  {
   "cell_type": "markdown",
   "source": [
    "#### Imports"
   ],
   "metadata": {
    "collapsed": false
   }
  },
  {
   "cell_type": "code",
   "execution_count": 117,
   "metadata": {
    "collapsed": true
   },
   "outputs": [],
   "source": [
    "#cleaning and EDA\n",
    "import pandas as pd\n",
    "import numpy as np\n",
    "import seaborn as sns\n",
    "import matplotlib.pyplot as plt\n",
    "from sklearn.feature_extraction.text import CountVectorizer\n",
    "#wordcloud does not work on python 3.9\n",
    "#from wordcloud import WordCloud, ImageColorGenerator\n",
    "#art\n",
    "from PIL import Image\n",
    "\n",
    "#misc features for language detection and random selection\n",
    "import langdetect\n",
    "import random"
   ]
  },
  {
   "cell_type": "code",
   "execution_count": 118,
   "outputs": [],
   "source": [
    "#reading in dataset from end of book 1\n",
    "df = pd.read_csv('../Datasets/combined.csv')"
   ],
   "metadata": {
    "collapsed": false,
    "pycharm": {
     "name": "#%%\n"
    }
   }
  },
  {
   "cell_type": "markdown",
   "source": [
    "#### Checking for Duplicates and missing values"
   ],
   "metadata": {
    "collapsed": false,
    "pycharm": {
     "name": "#%% md\n"
    }
   }
  },
  {
   "cell_type": "code",
   "execution_count": 119,
   "outputs": [
    {
     "name": "stdout",
     "output_type": "stream",
     "text": [
      "<class 'pandas.core.frame.DataFrame'>\n",
      "RangeIndex: 10000 entries, 0 to 9999\n",
      "Data columns (total 2 columns):\n",
      " #   Column     Non-Null Count  Dtype \n",
      "---  ------     --------------  ----- \n",
      " 0   subreddit  10000 non-null  object\n",
      " 1   title      10000 non-null  object\n",
      "dtypes: object(2)\n",
      "memory usage: 156.4+ KB\n"
     ]
    }
   ],
   "source": [
    "# based on our checks in the book 1 the dataset is clean and has no nulls, but as a quick check:\n",
    "df.info()"
   ],
   "metadata": {
    "collapsed": false,
    "pycharm": {
     "name": "#%%\n"
    }
   }
  },
  {
   "cell_type": "markdown",
   "source": [
    "No nulls in the dataset as expected"
   ],
   "metadata": {
    "collapsed": false
   }
  },
  {
   "cell_type": "code",
   "execution_count": 120,
   "outputs": [
    {
     "data": {
      "text/plain": "[\"Finnish Man Passes on Paying $22,600 to Replace His Tesla's Battery, Blows Up Car Instead\",\n 'Police Say School Shooter Had History Of School Shootings',\n 'Albatross divorce rates going up due to climate change']"
     },
     "execution_count": 120,
     "metadata": {},
     "output_type": "execute_result"
    }
   ],
   "source": [
    "#checking for duplicate entries\n",
    "dup_titles = [title for title in df[df.title.duplicated()==True]['title']]\n",
    "dup_titles"
   ],
   "metadata": {
    "collapsed": false,
    "pycharm": {
     "name": "#%%\n"
    }
   }
  },
  {
   "cell_type": "code",
   "execution_count": 121,
   "outputs": [
    {
     "name": "stdout",
     "output_type": "stream",
     "text": [
      "        subreddit                                              title\n",
      "31       TheOnion  Finnish Man Passes on Paying $22,600 to Replac...\n",
      "5481  nottheonion  Finnish Man Passes on Paying $22,600 to Replac...\n",
      "        subreddit                                              title\n",
      "2058     TheOnion  Police Say School Shooter Had History Of Schoo...\n",
      "7816  nottheonion  Police Say School Shooter Had History Of Schoo...\n",
      "        subreddit                                              title\n",
      "150      TheOnion  Albatross divorce rates going up due to climat...\n",
      "9001  nottheonion  Albatross divorce rates going up due to climat...\n"
     ]
    }
   ],
   "source": [
    "for title in dup_titles:\n",
    "    print(df[df.title == title][['subreddit', 'title']])"
   ],
   "metadata": {
    "collapsed": false,
    "pycharm": {
     "name": "#%%\n"
    }
   }
  },
  {
   "cell_type": "markdown",
   "source": [
    "Oddly now that the data for both subreddits have been combined there are 3 titles that appear in both TheOnion and Not the Onion checking online the posts on the Finnish Man and Albatross divorce rates are actual news and was probably posted on The Onion incorrectly and vice versa for the article on the school shooting.\n",
    "\n",
    "We'll drop them the duplicated titles that are in the wrong subreddit"
   ],
   "metadata": {
    "collapsed": false,
    "pycharm": {
     "name": "#%% md\n"
    }
   }
  },
  {
   "cell_type": "code",
   "execution_count": 122,
   "outputs": [],
   "source": [
    "df.drop(df[(df.title ==dup_titles[0]) & (df.subreddit =='TheOnion') ].index, inplace = True)\n",
    "df.drop(df[(df.title ==dup_titles[2]) & (df.subreddit =='TheOnion') ].index, inplace = True)"
   ],
   "metadata": {
    "collapsed": false,
    "pycharm": {
     "name": "#%%\n"
    }
   }
  },
  {
   "cell_type": "code",
   "execution_count": 123,
   "outputs": [],
   "source": [
    "df.drop(df[(df.title ==dup_titles[1]) & (df.subreddit =='nottheonion') ].index, inplace = True)"
   ],
   "metadata": {
    "collapsed": false,
    "pycharm": {
     "name": "#%%\n"
    }
   }
  },
  {
   "cell_type": "code",
   "execution_count": 124,
   "outputs": [
    {
     "name": "stdout",
     "output_type": "stream",
     "text": [
      "<class 'pandas.core.frame.DataFrame'>\n",
      "Int64Index: 9997 entries, 0 to 9999\n",
      "Data columns (total 2 columns):\n",
      " #   Column     Non-Null Count  Dtype \n",
      "---  ------     --------------  ----- \n",
      " 0   subreddit  9997 non-null   object\n",
      " 1   title      9997 non-null   object\n",
      "dtypes: object(2)\n",
      "memory usage: 234.3+ KB\n"
     ]
    }
   ],
   "source": [
    "df.info()"
   ],
   "metadata": {
    "collapsed": false,
    "pycharm": {
     "name": "#%%\n"
    }
   }
  },
  {
   "cell_type": "markdown",
   "source": [
    "Now that the 3 incorrect posts have been removed, we'll move on to look at out features of the dataset such as post length by subreddit"
   ],
   "metadata": {
    "collapsed": false
   }
  },
  {
   "cell_type": "markdown",
   "source": [
    "### Initial EDA"
   ],
   "metadata": {
    "collapsed": false
   }
  },
  {
   "cell_type": "markdown",
   "source": [
    "#### Post Length"
   ],
   "metadata": {
    "collapsed": false,
    "pycharm": {
     "name": "#%% md\n"
    }
   }
  },
  {
   "cell_type": "code",
   "execution_count": 125,
   "outputs": [],
   "source": [
    "# Determining the distribution of post titles\n",
    "#creating a new feature that has the length of the title (characters)\n",
    "df['title_length'] = df['title'].map(len)"
   ],
   "metadata": {
    "collapsed": false,
    "pycharm": {
     "name": "#%%\n"
    }
   }
  },
  {
   "cell_type": "code",
   "execution_count": 126,
   "outputs": [],
   "source": [
    "#creating a new feature that has the length of the title (in words)\n",
    "df['title_word_count'] = df['title'].map(lambda x: len(x.split()))"
   ],
   "metadata": {
    "collapsed": false,
    "pycharm": {
     "name": "#%%\n"
    }
   }
  },
  {
   "cell_type": "code",
   "execution_count": 127,
   "outputs": [
    {
     "data": {
      "text/plain": "<Figure size 432x288 with 1 Axes>",
      "image/png": "[encoded data removed]"
     },
     "metadata": {
      "needs_background": "light"
     },
     "output_type": "display_data"
    }
   ],
   "source": [
    "#hist plot of length of post by subreddit\n",
    "sns.histplot(df[df['subreddit'] == 'TheOnion']['title_word_count'], kde=False, label = 'Onion', color = \"orange\", alpha = 0.5).set_xlabel('word count')\n",
    "sns.histplot(df[df['subreddit'] == 'nottheonion']['title_word_count'], kde=False, label = 'NotOnion', color = \"skyblue\", alpha = 0.5)\n",
    "plt.legend()\n",
    "\n",
    "plt.suptitle('Word count by subreddit');"
   ],
   "metadata": {
    "collapsed": false,
    "pycharm": {
     "name": "#%%\n"
    }
   }
  },
  {
   "cell_type": "markdown",
   "source": [
    "Post length for both subreddits are similar and follow a mostly normal distribution with a noticeably long tails. Posts from both subreddits tend to be be about 10 to 20 words long.\n",
    "\n",
    "Comparing the post lengths for just 'theonion' and 'nottheonion' we can see that post from the onion tends to have a wider distribution while post from 'nottheonion' are heavily concentrated between 10 to 20 words long with a longer tail.\n",
    "\n",
    "There are a small number post titles that are just 1-5 words long, which could be errors since news headlines/ satire headlines would need generally need to be of decent length to accurately describe the story. We will review these post to determine if they are errors our outliers."
   ],
   "metadata": {
    "collapsed": false,
    "pycharm": {
     "name": "#%% md\n"
    }
   }
  },
  {
   "cell_type": "code",
   "execution_count": 128,
   "outputs": [
    {
     "data": {
      "text/plain": "<Figure size 432x288 with 1 Axes>",
      "image/png": "[encoded data removed]"
     },
     "metadata": {
      "needs_background": "light"
     },
     "output_type": "display_data"
    }
   ],
   "source": [
    "sns.histplot(df[df['subreddit'] == 'TheOnion']['title_length'], kde=False, label = 'Onion', color = \"orange\", alpha = 0.5).set_xlabel('post length by characters')\n",
    "sns.histplot(df[df['subreddit'] == 'nottheonion']['title_length'], kde=False, label = 'NotOnion', color = \"skyblue\", alpha = 0.5)\n",
    "plt.legend()\n",
    "\n",
    "plt.suptitle('Character count by subreddit');"
   ],
   "metadata": {
    "collapsed": false,
    "pycharm": {
     "name": "#%%\n"
    }
   }
  },
  {
   "cell_type": "markdown",
   "source": [
    "We see a similar distribution for post length by characters where both subreddits have a bell shaped distribution with long right tails."
   ],
   "metadata": {
    "collapsed": false,
    "pycharm": {
     "name": "#%% md\n"
    }
   }
  },
  {
   "cell_type": "code",
   "source": [
    "#Box plot of data split by subreddit:\n",
    "sns.boxplot(data = df, x = df['title_word_count'], y=df['subreddit']);"
   ],
   "metadata": {
    "collapsed": false,
    "pycharm": {
     "name": "#%%\n"
    }
   },
   "execution_count": 129,
   "outputs": [
    {
     "data": {
      "text/plain": "<Figure size 432x288 with 1 Axes>",
      "image/png": "[encoded data removed]"
     },
     "metadata": {
      "needs_background": "light"
     },
     "output_type": "display_data"
    }
   ]
  },
  {
   "cell_type": "markdown",
   "source": [
    "Box plots paint a similar picture with median title length of both subreddits is around the same at about 10+ but 'nottheonion' has a longer tail with the max post length reaching 50+ words"
   ],
   "metadata": {
    "collapsed": false
   }
  },
  {
   "cell_type": "code",
   "execution_count": 130,
   "outputs": [
    {
     "data": {
      "text/plain": "        subreddit                                              title  \\\n6396  nottheonion                                                 da   \n5766  nottheonion                                 2021.12.23早，老白，開播！   \n5368  nottheonion                                 2021.12.28早，老白，開播！   \n7014  nottheonion                                2021.12.14早，小圓子，開播！   \n6634  nottheonion                                 2021.12.17早，老白，開播！   \n2785     TheOnion  https://politics.theonion.com/one-eyed-man-who...   \n7821  nottheonion                                               WHAT   \n1008     TheOnion  Pro-life-texas-lawmaker-introduces-bill-imposi...   \n6050  nottheonion                                 2021.12.21早，老白，開播！   \n7214  nottheonion              磨砂珠子很有特色，珠子大小作为配链或者手链都很合适，很好搭配件，性价比高。   \n7002  nottheonion                                  2021.12.7早，老白，开播！   \n8083  nottheonion                                       Superglue...   \n6133  nottheonion                                                  🌈   \n7241  nottheonion                                       据传四川南充发生局部兵变   \n1263     TheOnion                                            América   \n5427  nottheonion                                2021.12.27晚，小圓子。開播！   \n9702  nottheonion                                              jjjjj   \n7226  nottheonion                                 2021.12.12早，老白，開播！   \n6663  nottheonion                                            Scratch   \n6799  nottheonion                                 2021.12.16早，老白，開播！   \n\n      title_length  title_word_count  \n6396             2                 1  \n5766            18                 1  \n5368            18                 1  \n7014            19                 1  \n6634            18                 1  \n2785            96                 1  \n7821             4                 1  \n1008            75                 1  \n6050            18                 1  \n7214            37                 1  \n7002            17                 1  \n8083            12                 1  \n6133             1                 1  \n7241            12                 1  \n1263             7                 1  \n5427            19                 1  \n9702             5                 1  \n7226            18                 1  \n6663             7                 1  \n6799            18                 1  ",
      "text/html": "<div>\n<style scoped>\n    .dataframe tbody tr th:only-of-type {\n        vertical-align: middle;\n    }\n\n    .dataframe tbody tr th {\n        vertical-align: top;\n    }\n\n    .dataframe thead th {\n        text-align: right;\n    }\n</style>\n<table border=\"1\" class=\"dataframe\">\n  <thead>\n    <tr style=\"text-align: right;\">\n      <th></th>\n      <th>subreddit</th>\n      <th>title</th>\n      <th>title_length</th>\n      <th>title_word_count</th>\n    </tr>\n  </thead>\n  <tbody>\n    <tr>\n      <th>6396</th>\n      <td>nottheonion</td>\n      <td>da</td>\n      <td>2</td>\n      <td>1</td>\n    </tr>\n    <tr>\n      <th>5766</th>\n      <td>nottheonion</td>\n      <td>2021.12.23早，老白，開播！</td>\n      <td>18</td>\n      <td>1</td>\n    </tr>\n    <tr>\n      <th>5368</th>\n      <td>nottheonion</td>\n      <td>2021.12.28早，老白，開播！</td>\n      <td>18</td>\n      <td>1</td>\n    </tr>\n    <tr>\n      <th>7014</th>\n      <td>nottheonion</td>\n      <td>2021.12.14早，小圓子，開播！</td>\n      <td>19</td>\n      <td>1</td>\n    </tr>\n    <tr>\n      <th>6634</th>\n      <td>nottheonion</td>\n      <td>2021.12.17早，老白，開播！</td>\n      <td>18</td>\n      <td>1</td>\n    </tr>\n    <tr>\n      <th>2785</th>\n      <td>TheOnion</td>\n      <td>https://politics.theonion.com/one-eyed-man-who...</td>\n      <td>96</td>\n      <td>1</td>\n    </tr>\n    <tr>\n      <th>7821</th>\n      <td>nottheonion</td>\n      <td>WHAT</td>\n      <td>4</td>\n      <td>1</td>\n    </tr>\n    <tr>\n      <th>1008</th>\n      <td>TheOnion</td>\n      <td>Pro-life-texas-lawmaker-introduces-bill-imposi...</td>\n      <td>75</td>\n      <td>1</td>\n    </tr>\n    <tr>\n      <th>6050</th>\n      <td>nottheonion</td>\n      <td>2021.12.21早，老白，開播！</td>\n      <td>18</td>\n      <td>1</td>\n    </tr>\n    <tr>\n      <th>7214</th>\n      <td>nottheonion</td>\n      <td>磨砂珠子很有特色，珠子大小作为配链或者手链都很合适，很好搭配件，性价比高。</td>\n      <td>37</td>\n      <td>1</td>\n    </tr>\n    <tr>\n      <th>7002</th>\n      <td>nottheonion</td>\n      <td>2021.12.7早，老白，开播！</td>\n      <td>17</td>\n      <td>1</td>\n    </tr>\n    <tr>\n      <th>8083</th>\n      <td>nottheonion</td>\n      <td>Superglue...</td>\n      <td>12</td>\n      <td>1</td>\n    </tr>\n    <tr>\n      <th>6133</th>\n      <td>nottheonion</td>\n      <td>🌈</td>\n      <td>1</td>\n      <td>1</td>\n    </tr>\n    <tr>\n      <th>7241</th>\n      <td>nottheonion</td>\n      <td>据传四川南充发生局部兵变</td>\n      <td>12</td>\n      <td>1</td>\n    </tr>\n    <tr>\n      <th>1263</th>\n      <td>TheOnion</td>\n      <td>América</td>\n      <td>7</td>\n      <td>1</td>\n    </tr>\n    <tr>\n      <th>5427</th>\n      <td>nottheonion</td>\n      <td>2021.12.27晚，小圓子。開播！</td>\n      <td>19</td>\n      <td>1</td>\n    </tr>\n    <tr>\n      <th>9702</th>\n      <td>nottheonion</td>\n      <td>jjjjj</td>\n      <td>5</td>\n      <td>1</td>\n    </tr>\n    <tr>\n      <th>7226</th>\n      <td>nottheonion</td>\n      <td>2021.12.12早，老白，開播！</td>\n      <td>18</td>\n      <td>1</td>\n    </tr>\n    <tr>\n      <th>6663</th>\n      <td>nottheonion</td>\n      <td>Scratch</td>\n      <td>7</td>\n      <td>1</td>\n    </tr>\n    <tr>\n      <th>6799</th>\n      <td>nottheonion</td>\n      <td>2021.12.16早，老白，開播！</td>\n      <td>18</td>\n      <td>1</td>\n    </tr>\n  </tbody>\n</table>\n</div>"
     },
     "execution_count": 130,
     "metadata": {},
     "output_type": "execute_result"
    }
   ],
   "source": [
    "# reviewing titles with low word counts\n",
    "df.sort_values(by = 'title_word_count').head(20)"
   ],
   "metadata": {
    "collapsed": false,
    "pycharm": {
     "name": "#%%\n"
    }
   }
  },
  {
   "cell_type": "markdown",
   "source": [
    "Sorting by word count we can see that for post that only consist of one word, it is hard to discern any meaning from the posts the titles appear to be mostly just hyperlinks, posts written in non-english, titles that don't provide enough context (eg. 'jjjjj', 'superglue....') or just emojis, we'll remove these posts."
   ],
   "metadata": {
    "collapsed": false,
    "pycharm": {
     "name": "#%% md\n"
    }
   }
  },
  {
   "cell_type": "code",
   "execution_count": 131,
   "outputs": [
    {
     "data": {
      "text/plain": "        subreddit                                              title  \\\n5031  nottheonion  Marjorie Taylor Greene Says She Wants To Take ...   \n5378  nottheonion  @RandPaul: How to steal an election: “Seeding ...   \n8561  nottheonion  Tom Cruise has been practicing a new stunt for...   \n6675  nottheonion  While attractive hospitality workers typically...   \n9233  nottheonion  Emphatic stress is stress imposed on a word in...   \n9394  nottheonion  WAEC/WASSCE ORAL ENGLISH QUESTIONS AND ANSWERS...   \n4606     TheOnion  Heartbreaking: This Kid Is Too Young To Realiz...   \n6796  nottheonion  In most English exams, students are asked to f...   \n113      TheOnion  The Sydney Opera House in Australia has renewe...   \n5462  nottheonion  Finnish Man Passes on Paying $22,600 to Replac...   \n2655     TheOnion  Absolutely Heartwarming: This Stray Dog Was Li...   \n7171  nottheonion  AN AMAZING EBOOK SHOWS HOW TO BREAK YOUR BARRI...   \n453      TheOnion  Most traders are in a situation where they are...   \n7819  nottheonion  #WATCH| Delhi CM Arvind Kejriwal is a liar, he...   \n6253  nottheonion  These are your leaders and celebrities! This h...   \n8373  nottheonion  On this day in 1984, world witnessed its worst...   \n9446  nottheonion  How To Start An Online Business With Little Or...   \n5852  nottheonion  Dating Dating Dating, create an account on thi...   \n9812  nottheonion  HOW TO TURN YOUR IDEAS &amp; SKILLS INTO PRODU...   \n7238  nottheonion  Florida man is hired by HOA to sedate and remo...   \n\n      title_length  title_word_count  \n5031           238                41  \n5378           264                41  \n8561           225                41  \n6675           297                41  \n9233           237                42  \n9394           291                42  \n4606           215                43  \n6796           287                43  \n113            253                45  \n5462           243                45  \n2655           288                46  \n7171           272                46  \n453            251                47  \n7819           282                48  \n6253           277                49  \n8373           303                51  \n9446           271                52  \n5852           276                53  \n9812           292                53  \n7238           292                54  ",
      "text/html": "<div>\n<style scoped>\n    .dataframe tbody tr th:only-of-type {\n        vertical-align: middle;\n    }\n\n    .dataframe tbody tr th {\n        vertical-align: top;\n    }\n\n    .dataframe thead th {\n        text-align: right;\n    }\n</style>\n<table border=\"1\" class=\"dataframe\">\n  <thead>\n    <tr style=\"text-align: right;\">\n      <th></th>\n      <th>subreddit</th>\n      <th>title</th>\n      <th>title_length</th>\n      <th>title_word_count</th>\n    </tr>\n  </thead>\n  <tbody>\n    <tr>\n      <th>5031</th>\n      <td>nottheonion</td>\n      <td>Marjorie Taylor Greene Says She Wants To Take ...</td>\n      <td>238</td>\n      <td>41</td>\n    </tr>\n    <tr>\n      <th>5378</th>\n      <td>nottheonion</td>\n      <td>@RandPaul: How to steal an election: “Seeding ...</td>\n      <td>264</td>\n      <td>41</td>\n    </tr>\n    <tr>\n      <th>8561</th>\n      <td>nottheonion</td>\n      <td>Tom Cruise has been practicing a new stunt for...</td>\n      <td>225</td>\n      <td>41</td>\n    </tr>\n    <tr>\n      <th>6675</th>\n      <td>nottheonion</td>\n      <td>While attractive hospitality workers typically...</td>\n      <td>297</td>\n      <td>41</td>\n    </tr>\n    <tr>\n      <th>9233</th>\n      <td>nottheonion</td>\n      <td>Emphatic stress is stress imposed on a word in...</td>\n      <td>237</td>\n      <td>42</td>\n    </tr>\n    <tr>\n      <th>9394</th>\n      <td>nottheonion</td>\n      <td>WAEC/WASSCE ORAL ENGLISH QUESTIONS AND ANSWERS...</td>\n      <td>291</td>\n      <td>42</td>\n    </tr>\n    <tr>\n      <th>4606</th>\n      <td>TheOnion</td>\n      <td>Heartbreaking: This Kid Is Too Young To Realiz...</td>\n      <td>215</td>\n      <td>43</td>\n    </tr>\n    <tr>\n      <th>6796</th>\n      <td>nottheonion</td>\n      <td>In most English exams, students are asked to f...</td>\n      <td>287</td>\n      <td>43</td>\n    </tr>\n    <tr>\n      <th>113</th>\n      <td>TheOnion</td>\n      <td>The Sydney Opera House in Australia has renewe...</td>\n      <td>253</td>\n      <td>45</td>\n    </tr>\n    <tr>\n      <th>5462</th>\n      <td>nottheonion</td>\n      <td>Finnish Man Passes on Paying $22,600 to Replac...</td>\n      <td>243</td>\n      <td>45</td>\n    </tr>\n    <tr>\n      <th>2655</th>\n      <td>TheOnion</td>\n      <td>Absolutely Heartwarming: This Stray Dog Was Li...</td>\n      <td>288</td>\n      <td>46</td>\n    </tr>\n    <tr>\n      <th>7171</th>\n      <td>nottheonion</td>\n      <td>AN AMAZING EBOOK SHOWS HOW TO BREAK YOUR BARRI...</td>\n      <td>272</td>\n      <td>46</td>\n    </tr>\n    <tr>\n      <th>453</th>\n      <td>TheOnion</td>\n      <td>Most traders are in a situation where they are...</td>\n      <td>251</td>\n      <td>47</td>\n    </tr>\n    <tr>\n      <th>7819</th>\n      <td>nottheonion</td>\n      <td>#WATCH| Delhi CM Arvind Kejriwal is a liar, he...</td>\n      <td>282</td>\n      <td>48</td>\n    </tr>\n    <tr>\n      <th>6253</th>\n      <td>nottheonion</td>\n      <td>These are your leaders and celebrities! This h...</td>\n      <td>277</td>\n      <td>49</td>\n    </tr>\n    <tr>\n      <th>8373</th>\n      <td>nottheonion</td>\n      <td>On this day in 1984, world witnessed its worst...</td>\n      <td>303</td>\n      <td>51</td>\n    </tr>\n    <tr>\n      <th>9446</th>\n      <td>nottheonion</td>\n      <td>How To Start An Online Business With Little Or...</td>\n      <td>271</td>\n      <td>52</td>\n    </tr>\n    <tr>\n      <th>5852</th>\n      <td>nottheonion</td>\n      <td>Dating Dating Dating, create an account on thi...</td>\n      <td>276</td>\n      <td>53</td>\n    </tr>\n    <tr>\n      <th>9812</th>\n      <td>nottheonion</td>\n      <td>HOW TO TURN YOUR IDEAS &amp;amp; SKILLS INTO PRODU...</td>\n      <td>292</td>\n      <td>53</td>\n    </tr>\n    <tr>\n      <th>7238</th>\n      <td>nottheonion</td>\n      <td>Florida man is hired by HOA to sedate and remo...</td>\n      <td>292</td>\n      <td>54</td>\n    </tr>\n  </tbody>\n</table>\n</div>"
     },
     "execution_count": 131,
     "metadata": {},
     "output_type": "execute_result"
    }
   ],
   "source": [
    "df.sort_values(by = 'title_word_count').tail(20)"
   ],
   "metadata": {
    "collapsed": false,
    "pycharm": {
     "name": "#%%\n"
    }
   }
  },
  {
   "cell_type": "markdown",
   "source": [
    "On the other hand the post with high word counts are acceptable as they seem to provide insight to the contents of the article."
   ],
   "metadata": {
    "collapsed": false,
    "pycharm": {
     "name": "#%% md\n"
    }
   }
  },
  {
   "cell_type": "code",
   "execution_count": 132,
   "outputs": [],
   "source": [
    "#dropping post with title_word_count of 1.\n",
    "df.drop(df[df.title_word_count<2].index, inplace = True)"
   ],
   "metadata": {
    "collapsed": false,
    "pycharm": {
     "name": "#%%\n"
    }
   }
  },
  {
   "cell_type": "code",
   "execution_count": 133,
   "outputs": [
    {
     "data": {
      "text/plain": "        subreddit                                              title  \\\n229      TheOnion                                          The onion   \n360      TheOnion                                   nothing happened   \n591      TheOnion                                          onion ice   \n698      TheOnion                              Badum tsssssss!!!!!!!   \n895      TheOnion                                   Derek chauvinist   \n946      TheOnion                                 Pennington indiana   \n1088     TheOnion                                     Seems sensible   \n1226     TheOnion                                           5000% Up   \n1295     TheOnion                                    Finders keepers   \n1445     TheOnion                              Excellent journalism!   \n1600     TheOnion                                       SeaWorld Bad   \n1796     TheOnion                                     Tortube movies   \n1929     TheOnion                                    Spring Cleaning   \n1943     TheOnion                                          An onion.   \n2137     TheOnion                                     Earth Explodes   \n2184     TheOnion                                      Nerd Immunity   \n2313     TheOnion                                          1st Place   \n2398     TheOnion                                         onion list   \n2834     TheOnion                                   Lettuce anybody?   \n3039     TheOnion                                   Outstanding move   \n3176     TheOnion                                        Issue 37•34   \n3718     TheOnion                                     Texans ATTACK!   \n4125     TheOnion                                            Read it   \n4282     TheOnion                                  How Embarrassing.   \n4531     TheOnion                                    Free massages!!   \n4640     TheOnion                                           Heart On   \n4849     TheOnion                                 Government Reopens   \n5019  nottheonion                                       Sweet Jeebus   \n5036  nottheonion                             Racially Discriminated   \n5180  nottheonion                                   CRAZY MICROCHIPS   \n5528  nottheonion                             Zmartwychwstania Czasu   \n5661  nottheonion                                Accounts Receivable   \n5938  nottheonion                                              It oh   \n5974  nottheonion                                         Nailed it.   \n6064  nottheonion                                 Men's &amp;Women's   \n6136  nottheonion                                    Premium Socials   \n6174  nottheonion                                   Digital Shopping   \n6430  nottheonion                                minecraft animation   \n6605  nottheonion                                       Florida Man.   \n6664  nottheonion                                            This 👇🏻   \n7009  nottheonion                                     Across America   \n7030  nottheonion                                   Seriously guys?!   \n8163  nottheonion                                       Мир животных   \n8198  nottheonion                                          Bit weird   \n8235  nottheonion                                         Bomb Squad   \n8265  nottheonion                                        Makes sense   \n8284  nottheonion                                     Self Discovery   \n8381  nottheonion                                          Must see!   \n8480  nottheonion                                        Keto Bullet   \n8618  nottheonion                                Survival Techniques   \n9529  nottheonion                                      Fnf animation   \n9621  nottheonion                  เรื่องของปิงปอง สมาชิกสี่ขาในบ้าน   \n9656  nottheonion  ชาวราศีธนูมีเกณฑ์รับโชคลาภจากหลายช่องทาง ในเดื...   \n9737  nottheonion                                      Fitness Goals   \n9778  nottheonion                                            Free AF   \n9851  nottheonion                                       Amzing video   \n9867  nottheonion                                Rittenhouse cleared   \n\n      title_length  title_word_count  \n229              9                 2  \n360             16                 2  \n591              9                 2  \n698             21                 2  \n895             16                 2  \n946             18                 2  \n1088            14                 2  \n1226             8                 2  \n1295            15                 2  \n1445            21                 2  \n1600            12                 2  \n1796            14                 2  \n1929            15                 2  \n1943             9                 2  \n2137            14                 2  \n2184            13                 2  \n2313             9                 2  \n2398            10                 2  \n2834            16                 2  \n3039            16                 2  \n3176            11                 2  \n3718            14                 2  \n4125             7                 2  \n4282            17                 2  \n4531            15                 2  \n4640             8                 2  \n4849            18                 2  \n5019            12                 2  \n5036            22                 2  \n5180            16                 2  \n5528            22                 2  \n5661            19                 2  \n5938             5                 2  \n5974            10                 2  \n6064            18                 2  \n6136            15                 2  \n6174            16                 2  \n6430            19                 2  \n6605            12                 2  \n6664             7                 2  \n7009            14                 2  \n7030            16                 2  \n8163            12                 2  \n8198             9                 2  \n8235            10                 2  \n8265            11                 2  \n8284            14                 2  \n8381             9                 2  \n8480            11                 2  \n8618            19                 2  \n9529            13                 2  \n9621            33                 2  \n9656            54                 2  \n9737            13                 2  \n9778             7                 2  \n9851            12                 2  \n9867            19                 2  ",
      "text/html": "<div>\n<style scoped>\n    .dataframe tbody tr th:only-of-type {\n        vertical-align: middle;\n    }\n\n    .dataframe tbody tr th {\n        vertical-align: top;\n    }\n\n    .dataframe thead th {\n        text-align: right;\n    }\n</style>\n<table border=\"1\" class=\"dataframe\">\n  <thead>\n    <tr style=\"text-align: right;\">\n      <th></th>\n      <th>subreddit</th>\n      <th>title</th>\n      <th>title_length</th>\n      <th>title_word_count</th>\n    </tr>\n  </thead>\n  <tbody>\n    <tr>\n      <th>229</th>\n      <td>TheOnion</td>\n      <td>The onion</td>\n      <td>9</td>\n      <td>2</td>\n    </tr>\n    <tr>\n      <th>360</th>\n      <td>TheOnion</td>\n      <td>nothing happened</td>\n      <td>16</td>\n      <td>2</td>\n    </tr>\n    <tr>\n      <th>591</th>\n      <td>TheOnion</td>\n      <td>onion ice</td>\n      <td>9</td>\n      <td>2</td>\n    </tr>\n    <tr>\n      <th>698</th>\n      <td>TheOnion</td>\n      <td>Badum tsssssss!!!!!!!</td>\n      <td>21</td>\n      <td>2</td>\n    </tr>\n    <tr>\n      <th>895</th>\n      <td>TheOnion</td>\n      <td>Derek chauvinist</td>\n      <td>16</td>\n      <td>2</td>\n    </tr>\n    <tr>\n      <th>946</th>\n      <td>TheOnion</td>\n      <td>Pennington indiana</td>\n      <td>18</td>\n      <td>2</td>\n    </tr>\n    <tr>\n      <th>1088</th>\n      <td>TheOnion</td>\n      <td>Seems sensible</td>\n      <td>14</td>\n      <td>2</td>\n    </tr>\n    <tr>\n      <th>1226</th>\n      <td>TheOnion</td>\n      <td>5000% Up</td>\n      <td>8</td>\n      <td>2</td>\n    </tr>\n    <tr>\n      <th>1295</th>\n      <td>TheOnion</td>\n      <td>Finders keepers</td>\n      <td>15</td>\n      <td>2</td>\n    </tr>\n    <tr>\n      <th>1445</th>\n      <td>TheOnion</td>\n      <td>Excellent journalism!</td>\n      <td>21</td>\n      <td>2</td>\n    </tr>\n    <tr>\n      <th>1600</th>\n      <td>TheOnion</td>\n      <td>SeaWorld Bad</td>\n      <td>12</td>\n      <td>2</td>\n    </tr>\n    <tr>\n      <th>1796</th>\n      <td>TheOnion</td>\n      <td>Tortube movies</td>\n      <td>14</td>\n      <td>2</td>\n    </tr>\n    <tr>\n      <th>1929</th>\n      <td>TheOnion</td>\n      <td>Spring Cleaning</td>\n      <td>15</td>\n      <td>2</td>\n    </tr>\n    <tr>\n      <th>1943</th>\n      <td>TheOnion</td>\n      <td>An onion.</td>\n      <td>9</td>\n      <td>2</td>\n    </tr>\n    <tr>\n      <th>2137</th>\n      <td>TheOnion</td>\n      <td>Earth Explodes</td>\n      <td>14</td>\n      <td>2</td>\n    </tr>\n    <tr>\n      <th>2184</th>\n      <td>TheOnion</td>\n      <td>Nerd Immunity</td>\n      <td>13</td>\n      <td>2</td>\n    </tr>\n    <tr>\n      <th>2313</th>\n      <td>TheOnion</td>\n      <td>1st Place</td>\n      <td>9</td>\n      <td>2</td>\n    </tr>\n    <tr>\n      <th>2398</th>\n      <td>TheOnion</td>\n      <td>onion list</td>\n      <td>10</td>\n      <td>2</td>\n    </tr>\n    <tr>\n      <th>2834</th>\n      <td>TheOnion</td>\n      <td>Lettuce anybody?</td>\n      <td>16</td>\n      <td>2</td>\n    </tr>\n    <tr>\n      <th>3039</th>\n      <td>TheOnion</td>\n      <td>Outstanding move</td>\n      <td>16</td>\n      <td>2</td>\n    </tr>\n    <tr>\n      <th>3176</th>\n      <td>TheOnion</td>\n      <td>Issue 37•34</td>\n      <td>11</td>\n      <td>2</td>\n    </tr>\n    <tr>\n      <th>3718</th>\n      <td>TheOnion</td>\n      <td>Texans ATTACK!</td>\n      <td>14</td>\n      <td>2</td>\n    </tr>\n    <tr>\n      <th>4125</th>\n      <td>TheOnion</td>\n      <td>Read it</td>\n      <td>7</td>\n      <td>2</td>\n    </tr>\n    <tr>\n      <th>4282</th>\n      <td>TheOnion</td>\n      <td>How Embarrassing.</td>\n      <td>17</td>\n      <td>2</td>\n    </tr>\n    <tr>\n      <th>4531</th>\n      <td>TheOnion</td>\n      <td>Free massages!!</td>\n      <td>15</td>\n      <td>2</td>\n    </tr>\n    <tr>\n      <th>4640</th>\n      <td>TheOnion</td>\n      <td>Heart On</td>\n      <td>8</td>\n      <td>2</td>\n    </tr>\n    <tr>\n      <th>4849</th>\n      <td>TheOnion</td>\n      <td>Government Reopens</td>\n      <td>18</td>\n      <td>2</td>\n    </tr>\n    <tr>\n      <th>5019</th>\n      <td>nottheonion</td>\n      <td>Sweet Jeebus</td>\n      <td>12</td>\n      <td>2</td>\n    </tr>\n    <tr>\n      <th>5036</th>\n      <td>nottheonion</td>\n      <td>Racially Discriminated</td>\n      <td>22</td>\n      <td>2</td>\n    </tr>\n    <tr>\n      <th>5180</th>\n      <td>nottheonion</td>\n      <td>CRAZY MICROCHIPS</td>\n      <td>16</td>\n      <td>2</td>\n    </tr>\n    <tr>\n      <th>5528</th>\n      <td>nottheonion</td>\n      <td>Zmartwychwstania Czasu</td>\n      <td>22</td>\n      <td>2</td>\n    </tr>\n    <tr>\n      <th>5661</th>\n      <td>nottheonion</td>\n      <td>Accounts Receivable</td>\n      <td>19</td>\n      <td>2</td>\n    </tr>\n    <tr>\n      <th>5938</th>\n      <td>nottheonion</td>\n      <td>It oh</td>\n      <td>5</td>\n      <td>2</td>\n    </tr>\n    <tr>\n      <th>5974</th>\n      <td>nottheonion</td>\n      <td>Nailed it.</td>\n      <td>10</td>\n      <td>2</td>\n    </tr>\n    <tr>\n      <th>6064</th>\n      <td>nottheonion</td>\n      <td>Men's &amp;amp;Women's</td>\n      <td>18</td>\n      <td>2</td>\n    </tr>\n    <tr>\n      <th>6136</th>\n      <td>nottheonion</td>\n      <td>Premium Socials</td>\n      <td>15</td>\n      <td>2</td>\n    </tr>\n    <tr>\n      <th>6174</th>\n      <td>nottheonion</td>\n      <td>Digital Shopping</td>\n      <td>16</td>\n      <td>2</td>\n    </tr>\n    <tr>\n      <th>6430</th>\n      <td>nottheonion</td>\n      <td>minecraft animation</td>\n      <td>19</td>\n      <td>2</td>\n    </tr>\n    <tr>\n      <th>6605</th>\n      <td>nottheonion</td>\n      <td>Florida Man.</td>\n      <td>12</td>\n      <td>2</td>\n    </tr>\n    <tr>\n      <th>6664</th>\n      <td>nottheonion</td>\n      <td>This 👇🏻</td>\n      <td>7</td>\n      <td>2</td>\n    </tr>\n    <tr>\n      <th>7009</th>\n      <td>nottheonion</td>\n      <td>Across America</td>\n      <td>14</td>\n      <td>2</td>\n    </tr>\n    <tr>\n      <th>7030</th>\n      <td>nottheonion</td>\n      <td>Seriously guys?!</td>\n      <td>16</td>\n      <td>2</td>\n    </tr>\n    <tr>\n      <th>8163</th>\n      <td>nottheonion</td>\n      <td>Мир животных</td>\n      <td>12</td>\n      <td>2</td>\n    </tr>\n    <tr>\n      <th>8198</th>\n      <td>nottheonion</td>\n      <td>Bit weird</td>\n      <td>9</td>\n      <td>2</td>\n    </tr>\n    <tr>\n      <th>8235</th>\n      <td>nottheonion</td>\n      <td>Bomb Squad</td>\n      <td>10</td>\n      <td>2</td>\n    </tr>\n    <tr>\n      <th>8265</th>\n      <td>nottheonion</td>\n      <td>Makes sense</td>\n      <td>11</td>\n      <td>2</td>\n    </tr>\n    <tr>\n      <th>8284</th>\n      <td>nottheonion</td>\n      <td>Self Discovery</td>\n      <td>14</td>\n      <td>2</td>\n    </tr>\n    <tr>\n      <th>8381</th>\n      <td>nottheonion</td>\n      <td>Must see!</td>\n      <td>9</td>\n      <td>2</td>\n    </tr>\n    <tr>\n      <th>8480</th>\n      <td>nottheonion</td>\n      <td>Keto Bullet</td>\n      <td>11</td>\n      <td>2</td>\n    </tr>\n    <tr>\n      <th>8618</th>\n      <td>nottheonion</td>\n      <td>Survival Techniques</td>\n      <td>19</td>\n      <td>2</td>\n    </tr>\n    <tr>\n      <th>9529</th>\n      <td>nottheonion</td>\n      <td>Fnf animation</td>\n      <td>13</td>\n      <td>2</td>\n    </tr>\n    <tr>\n      <th>9621</th>\n      <td>nottheonion</td>\n      <td>เรื่องของปิงปอง สมาชิกสี่ขาในบ้าน</td>\n      <td>33</td>\n      <td>2</td>\n    </tr>\n    <tr>\n      <th>9656</th>\n      <td>nottheonion</td>\n      <td>ชาวราศีธนูมีเกณฑ์รับโชคลาภจากหลายช่องทาง ในเดื...</td>\n      <td>54</td>\n      <td>2</td>\n    </tr>\n    <tr>\n      <th>9737</th>\n      <td>nottheonion</td>\n      <td>Fitness Goals</td>\n      <td>13</td>\n      <td>2</td>\n    </tr>\n    <tr>\n      <th>9778</th>\n      <td>nottheonion</td>\n      <td>Free AF</td>\n      <td>7</td>\n      <td>2</td>\n    </tr>\n    <tr>\n      <th>9851</th>\n      <td>nottheonion</td>\n      <td>Amzing video</td>\n      <td>12</td>\n      <td>2</td>\n    </tr>\n    <tr>\n      <th>9867</th>\n      <td>nottheonion</td>\n      <td>Rittenhouse cleared</td>\n      <td>19</td>\n      <td>2</td>\n    </tr>\n  </tbody>\n</table>\n</div>"
     },
     "execution_count": 133,
     "metadata": {},
     "output_type": "execute_result"
    }
   ],
   "source": [
    "# reviewing post with word_count of 2\n",
    "df[df.title_word_count ==2]"
   ],
   "metadata": {
    "collapsed": false,
    "pycharm": {
     "name": "#%%\n"
    }
   }
  },
  {
   "cell_type": "markdown",
   "source": [
    "There are still some characters that are not in english (eg. index 9621, 9656) and emojis. We'll use langdetector to check if there are any titles that are not in english and drop them."
   ],
   "metadata": {
    "collapsed": false,
    "pycharm": {
     "name": "#%% md\n"
    }
   }
  },
  {
   "cell_type": "code",
   "source": [
    "#using langdetect to state the language of the post in a seperate column\n",
    "df['language'] = [langdetect.detect(title) for title in df['title']]"
   ],
   "metadata": {
    "collapsed": false,
    "pycharm": {
     "name": "#%%\n"
    }
   },
   "execution_count": 134,
   "outputs": []
  },
  {
   "cell_type": "code",
   "execution_count": 135,
   "outputs": [],
   "source": [
    "#dropping rows that are not in english\n",
    "rows_to_drop = []\n",
    "for index, row in df.iterrows():\n",
    "    if row['language'] != 'en':\n",
    "        rows_to_drop.append(row.name)"
   ],
   "metadata": {
    "collapsed": false,
    "pycharm": {
     "name": "#%%\n"
    }
   }
  },
  {
   "cell_type": "code",
   "execution_count": 136,
   "outputs": [],
   "source": [
    "for i in rows_to_drop:\n",
    "    df.drop( i, inplace = True)"
   ],
   "metadata": {
    "collapsed": false,
    "pycharm": {
     "name": "#%%\n"
    }
   }
  },
  {
   "cell_type": "code",
   "execution_count": 137,
   "outputs": [
    {
     "data": {
      "text/plain": "        subreddit                   title  title_length  title_word_count  \\\n229      TheOnion               The onion             9                 2   \n360      TheOnion        nothing happened            16                 2   \n591      TheOnion               onion ice             9                 2   \n946      TheOnion      Pennington indiana            18                 2   \n1600     TheOnion            SeaWorld Bad            12                 2   \n1796     TheOnion          Tortube movies            14                 2   \n1929     TheOnion         Spring Cleaning            15                 2   \n1943     TheOnion               An onion.             9                 2   \n2137     TheOnion          Earth Explodes            14                 2   \n2184     TheOnion           Nerd Immunity            13                 2   \n2313     TheOnion               1st Place             9                 2   \n2834     TheOnion        Lettuce anybody?            16                 2   \n3718     TheOnion          Texans ATTACK!            14                 2   \n4125     TheOnion                 Read it             7                 2   \n4282     TheOnion       How Embarrassing.            17                 2   \n4640     TheOnion                Heart On             8                 2   \n4849     TheOnion      Government Reopens            18                 2   \n5036  nottheonion  Racially Discriminated            22                 2   \n5661  nottheonion     Accounts Receivable            19                 2   \n5938  nottheonion                   It oh             5                 2   \n5974  nottheonion              Nailed it.            10                 2   \n6430  nottheonion     minecraft animation            19                 2   \n6664  nottheonion                 This 👇🏻             7                 2   \n7009  nottheonion          Across America            14                 2   \n7030  nottheonion        Seriously guys?!            16                 2   \n8284  nottheonion          Self Discovery            14                 2   \n9529  nottheonion           Fnf animation            13                 2   \n9867  nottheonion     Rittenhouse cleared            19                 2   \n\n     language  \n229        en  \n360        en  \n591        en  \n946        en  \n1600       en  \n1796       en  \n1929       en  \n1943       en  \n2137       en  \n2184       en  \n2313       en  \n2834       en  \n3718       en  \n4125       en  \n4282       en  \n4640       en  \n4849       en  \n5036       en  \n5661       en  \n5938       en  \n5974       en  \n6430       en  \n6664       en  \n7009       en  \n7030       en  \n8284       en  \n9529       en  \n9867       en  ",
      "text/html": "<div>\n<style scoped>\n    .dataframe tbody tr th:only-of-type {\n        vertical-align: middle;\n    }\n\n    .dataframe tbody tr th {\n        vertical-align: top;\n    }\n\n    .dataframe thead th {\n        text-align: right;\n    }\n</style>\n<table border=\"1\" class=\"dataframe\">\n  <thead>\n    <tr style=\"text-align: right;\">\n      <th></th>\n      <th>subreddit</th>\n      <th>title</th>\n      <th>title_length</th>\n      <th>title_word_count</th>\n      <th>language</th>\n    </tr>\n  </thead>\n  <tbody>\n    <tr>\n      <th>229</th>\n      <td>TheOnion</td>\n      <td>The onion</td>\n      <td>9</td>\n      <td>2</td>\n      <td>en</td>\n    </tr>\n    <tr>\n      <th>360</th>\n      <td>TheOnion</td>\n      <td>nothing happened</td>\n      <td>16</td>\n      <td>2</td>\n      <td>en</td>\n    </tr>\n    <tr>\n      <th>591</th>\n      <td>TheOnion</td>\n      <td>onion ice</td>\n      <td>9</td>\n      <td>2</td>\n      <td>en</td>\n    </tr>\n    <tr>\n      <th>946</th>\n      <td>TheOnion</td>\n      <td>Pennington indiana</td>\n      <td>18</td>\n      <td>2</td>\n      <td>en</td>\n    </tr>\n    <tr>\n      <th>1600</th>\n      <td>TheOnion</td>\n      <td>SeaWorld Bad</td>\n      <td>12</td>\n      <td>2</td>\n      <td>en</td>\n    </tr>\n    <tr>\n      <th>1796</th>\n      <td>TheOnion</td>\n      <td>Tortube movies</td>\n      <td>14</td>\n      <td>2</td>\n      <td>en</td>\n    </tr>\n    <tr>\n      <th>1929</th>\n      <td>TheOnion</td>\n      <td>Spring Cleaning</td>\n      <td>15</td>\n      <td>2</td>\n      <td>en</td>\n    </tr>\n    <tr>\n      <th>1943</th>\n      <td>TheOnion</td>\n      <td>An onion.</td>\n      <td>9</td>\n      <td>2</td>\n      <td>en</td>\n    </tr>\n    <tr>\n      <th>2137</th>\n      <td>TheOnion</td>\n      <td>Earth Explodes</td>\n      <td>14</td>\n      <td>2</td>\n      <td>en</td>\n    </tr>\n    <tr>\n      <th>2184</th>\n      <td>TheOnion</td>\n      <td>Nerd Immunity</td>\n      <td>13</td>\n      <td>2</td>\n      <td>en</td>\n    </tr>\n    <tr>\n      <th>2313</th>\n      <td>TheOnion</td>\n      <td>1st Place</td>\n      <td>9</td>\n      <td>2</td>\n      <td>en</td>\n    </tr>\n    <tr>\n      <th>2834</th>\n      <td>TheOnion</td>\n      <td>Lettuce anybody?</td>\n      <td>16</td>\n      <td>2</td>\n      <td>en</td>\n    </tr>\n    <tr>\n      <th>3718</th>\n      <td>TheOnion</td>\n      <td>Texans ATTACK!</td>\n      <td>14</td>\n      <td>2</td>\n      <td>en</td>\n    </tr>\n    <tr>\n      <th>4125</th>\n      <td>TheOnion</td>\n      <td>Read it</td>\n      <td>7</td>\n      <td>2</td>\n      <td>en</td>\n    </tr>\n    <tr>\n      <th>4282</th>\n      <td>TheOnion</td>\n      <td>How Embarrassing.</td>\n      <td>17</td>\n      <td>2</td>\n      <td>en</td>\n    </tr>\n    <tr>\n      <th>4640</th>\n      <td>TheOnion</td>\n      <td>Heart On</td>\n      <td>8</td>\n      <td>2</td>\n      <td>en</td>\n    </tr>\n    <tr>\n      <th>4849</th>\n      <td>TheOnion</td>\n      <td>Government Reopens</td>\n      <td>18</td>\n      <td>2</td>\n      <td>en</td>\n    </tr>\n    <tr>\n      <th>5036</th>\n      <td>nottheonion</td>\n      <td>Racially Discriminated</td>\n      <td>22</td>\n      <td>2</td>\n      <td>en</td>\n    </tr>\n    <tr>\n      <th>5661</th>\n      <td>nottheonion</td>\n      <td>Accounts Receivable</td>\n      <td>19</td>\n      <td>2</td>\n      <td>en</td>\n    </tr>\n    <tr>\n      <th>5938</th>\n      <td>nottheonion</td>\n      <td>It oh</td>\n      <td>5</td>\n      <td>2</td>\n      <td>en</td>\n    </tr>\n    <tr>\n      <th>5974</th>\n      <td>nottheonion</td>\n      <td>Nailed it.</td>\n      <td>10</td>\n      <td>2</td>\n      <td>en</td>\n    </tr>\n    <tr>\n      <th>6430</th>\n      <td>nottheonion</td>\n      <td>minecraft animation</td>\n      <td>19</td>\n      <td>2</td>\n      <td>en</td>\n    </tr>\n    <tr>\n      <th>6664</th>\n      <td>nottheonion</td>\n      <td>This 👇🏻</td>\n      <td>7</td>\n      <td>2</td>\n      <td>en</td>\n    </tr>\n    <tr>\n      <th>7009</th>\n      <td>nottheonion</td>\n      <td>Across America</td>\n      <td>14</td>\n      <td>2</td>\n      <td>en</td>\n    </tr>\n    <tr>\n      <th>7030</th>\n      <td>nottheonion</td>\n      <td>Seriously guys?!</td>\n      <td>16</td>\n      <td>2</td>\n      <td>en</td>\n    </tr>\n    <tr>\n      <th>8284</th>\n      <td>nottheonion</td>\n      <td>Self Discovery</td>\n      <td>14</td>\n      <td>2</td>\n      <td>en</td>\n    </tr>\n    <tr>\n      <th>9529</th>\n      <td>nottheonion</td>\n      <td>Fnf animation</td>\n      <td>13</td>\n      <td>2</td>\n      <td>en</td>\n    </tr>\n    <tr>\n      <th>9867</th>\n      <td>nottheonion</td>\n      <td>Rittenhouse cleared</td>\n      <td>19</td>\n      <td>2</td>\n      <td>en</td>\n    </tr>\n  </tbody>\n</table>\n</div>"
     },
     "execution_count": 137,
     "metadata": {},
     "output_type": "execute_result"
    }
   ],
   "source": [
    "df[df.title_word_count ==2]"
   ],
   "metadata": {
    "collapsed": false,
    "pycharm": {
     "name": "#%%\n"
    }
   }
  },
  {
   "cell_type": "markdown",
   "source": [
    "Emojis are still in the dataset but we'll keep them since they will be ignored by count vectorizer."
   ],
   "metadata": {
    "collapsed": false,
    "pycharm": {
     "name": "#%% md\n"
    }
   }
  },
  {
   "cell_type": "code",
   "source": [
    "# converting subreddit to 0 for not the onion and 1 for the onion:\n",
    "df['labels'] = df['subreddit'].map({'TheOnion': 1, 'nottheonion': 0})"
   ],
   "metadata": {
    "collapsed": false,
    "pycharm": {
     "name": "#%%\n"
    }
   },
   "execution_count": 138,
   "outputs": []
  },
  {
   "cell_type": "code",
   "source": [
    "df.corr()"
   ],
   "metadata": {
    "collapsed": false,
    "pycharm": {
     "name": "#%%\n"
    }
   },
   "execution_count": 139,
   "outputs": [
    {
     "data": {
      "text/plain": "                  title_length  title_word_count    labels\ntitle_length          1.000000          0.950720  0.061763\ntitle_word_count      0.950720          1.000000  0.050675\nlabels                0.061763          0.050675  1.000000",
      "text/html": "<div>\n<style scoped>\n    .dataframe tbody tr th:only-of-type {\n        vertical-align: middle;\n    }\n\n    .dataframe tbody tr th {\n        vertical-align: top;\n    }\n\n    .dataframe thead th {\n        text-align: right;\n    }\n</style>\n<table border=\"1\" class=\"dataframe\">\n  <thead>\n    <tr style=\"text-align: right;\">\n      <th></th>\n      <th>title_length</th>\n      <th>title_word_count</th>\n      <th>labels</th>\n    </tr>\n  </thead>\n  <tbody>\n    <tr>\n      <th>title_length</th>\n      <td>1.000000</td>\n      <td>0.950720</td>\n      <td>0.061763</td>\n    </tr>\n    <tr>\n      <th>title_word_count</th>\n      <td>0.950720</td>\n      <td>1.000000</td>\n      <td>0.050675</td>\n    </tr>\n    <tr>\n      <th>labels</th>\n      <td>0.061763</td>\n      <td>0.050675</td>\n      <td>1.000000</td>\n    </tr>\n  </tbody>\n</table>\n</div>"
     },
     "execution_count": 139,
     "metadata": {},
     "output_type": "execute_result"
    }
   ]
  },
  {
   "cell_type": "markdown",
   "source": [
    "title_length (in characters) and tile_count seems to have a low correlation with subreddit as such we will not include them as possible features during the modelling process."
   ],
   "metadata": {
    "collapsed": false,
    "pycharm": {
     "name": "#%% md\n"
    }
   }
  },
  {
   "cell_type": "markdown",
   "source": [],
   "metadata": {
    "collapsed": false
   }
  },
  {
   "cell_type": "code",
   "execution_count": 140,
   "outputs": [],
   "source": [
    "#instantiating count vectorizer to explore word counts/types\n",
    "cv = CountVectorizer()"
   ],
   "metadata": {
    "collapsed": false,
    "pycharm": {
     "name": "#%%\n"
    }
   }
  },
  {
   "cell_type": "code",
   "execution_count": 141,
   "outputs": [],
   "source": [
    "#fitting and transforming count vectorizer on our df\n",
    "vec_df = cv.fit_transform(df['title'])"
   ],
   "metadata": {
    "collapsed": false,
    "pycharm": {
     "name": "#%%\n"
    }
   }
  },
  {
   "cell_type": "code",
   "execution_count": 142,
   "outputs": [],
   "source": [
    "#creating a dataframe with the words used in the data and the number of times the words are used\n",
    "word_df = pd.DataFrame(vec_df.todense(), columns = cv.get_feature_names_out())"
   ],
   "metadata": {
    "collapsed": false,
    "pycharm": {
     "name": "#%%\n"
    }
   }
  },
  {
   "cell_type": "code",
   "execution_count": 143,
   "outputs": [
    {
     "data": {
      "text/plain": "<Figure size 432x288 with 1 Axes>",
      "image/png": "[encoded data removed]"
     },
     "metadata": {
      "needs_background": "light"
     },
     "output_type": "display_data"
    }
   ],
   "source": [
    "# finding out the top words used in the entire dataset\n",
    "bar = word_df.sum().sort_values(ascending=True).tail(20).plot(kind='barh')\n",
    "bar.set_title('Most frequently used words (stopwords = None)');"
   ],
   "metadata": {
    "collapsed": false,
    "pycharm": {
     "name": "#%%\n"
    }
   }
  },
  {
   "cell_type": "markdown",
   "source": [
    "20 most common words seem to be mostly preposition, conjunctions, adverbs and pronouns ('stopwords'). These words tend to provide low-level information and removing them can help improve performance as the model can place more focus on words that are more meaningful.\n",
    "\n",
    "Instead of outright removing them we can add stopwords as a parameter during the vectorizing stage to determine if the model does better with/without stopwords."
   ],
   "metadata": {
    "collapsed": false,
    "pycharm": {
     "name": "#%% md\n"
    }
   }
  },
  {
   "cell_type": "code",
   "execution_count": 144,
   "outputs": [
    {
     "data": {
      "text/plain": "<Figure size 432x288 with 1 Axes>",
      "image/png": "[encoded data removed]"
     },
     "metadata": {
      "needs_background": "light"
     },
     "output_type": "display_data"
    }
   ],
   "source": [
    "bar = word_df.sum().sort_values(ascending=False).tail(20).plot(kind='barh')\n",
    "bar.set_title(\"least used words\");"
   ],
   "metadata": {
    "collapsed": false,
    "pycharm": {
     "name": "#%%\n"
    }
   }
  },
  {
   "cell_type": "markdown",
   "source": [
    "In the bottom 20 words we see similar words like inseminate and insemination that have the same root word (e.g. inseminate), this indicates that lemmatization might be required to reduce the number of features prior to vectorization. Lemmatizing would likely reduce modelling time and improve model performance while maintaining the meaning of post titles."
   ],
   "metadata": {
    "collapsed": false,
    "pycharm": {
     "name": "#%% md\n"
    }
   }
  },
  {
   "cell_type": "code",
   "execution_count": 145,
   "outputs": [],
   "source": [
    "#instantiating count vectorizer to explore word counts without stopwords and with max_df as well\n",
    "cv_bi = CountVectorizer( min_df=3, max_df = 0.3, stop_words = 'english', ngram_range = (1,2))"
   ],
   "metadata": {
    "collapsed": false,
    "pycharm": {
     "name": "#%%\n"
    }
   }
  },
  {
   "cell_type": "code",
   "execution_count": 146,
   "outputs": [],
   "source": [
    "#fitting and transforming with our new cv params\n",
    "vec_df_nostop_bi = cv_bi.fit_transform(df['title'])"
   ],
   "metadata": {
    "collapsed": false,
    "pycharm": {
     "name": "#%%\n"
    }
   }
  },
  {
   "cell_type": "code",
   "execution_count": 147,
   "outputs": [],
   "source": [
    "# storing outputs into a dataframe\n",
    "vec_df_nostop_bi = pd.DataFrame(vec_df_nostop_bi.todense(), columns = cv_bi.get_feature_names_out())"
   ],
   "metadata": {
    "collapsed": false,
    "pycharm": {
     "name": "#%%\n"
    }
   }
  },
  {
   "cell_type": "code",
   "execution_count": 148,
   "outputs": [],
   "source": [
    "top_words_bi = vec_df_nostop_bi.sum().sort_values(ascending = False).head(15)"
   ],
   "metadata": {
    "collapsed": false,
    "pycharm": {
     "name": "#%%\n"
    }
   }
  },
  {
   "cell_type": "code",
   "execution_count": 149,
   "outputs": [
    {
     "data": {
      "text/plain": "<Figure size 432x288 with 1 Axes>",
      "image/png": "[encoded data removed]"
     },
     "metadata": {
      "needs_background": "light"
     },
     "output_type": "display_data"
    }
   ],
   "source": [
    "#plotting most used terms\n",
    "bar = top_words_bi.sort_values().plot(kind='barh')\n",
    "bar.set_title(\"most used words (stopwords = english)\");"
   ],
   "metadata": {
    "collapsed": false,
    "pycharm": {
     "name": "#%%\n"
    }
   }
  },
  {
   "cell_type": "markdown",
   "source": [
    "Removing stopwords the word \"Onion\" appears about 200 times which is likely a direct reference to the 'theonion'. We should remove such entries from the dataset as well so that the model is sufficiently generalised to find fake news that is not from theonion."
   ],
   "metadata": {
    "collapsed": false,
    "pycharm": {
     "name": "#%% md\n"
    }
   }
  },
  {
   "cell_type": "code",
   "execution_count": 150,
   "outputs": [],
   "source": [
    "#dropping posts that contain the word \"onion'\n",
    "for title in df.title:\n",
    "    if 'Onion' in title or 'onion' in title:\n",
    "        df.drop(df[df.title==title].index, inplace = True)"
   ],
   "metadata": {
    "collapsed": false,
    "pycharm": {
     "name": "#%%\n"
    }
   }
  },
  {
   "cell_type": "code",
   "execution_count": 151,
   "outputs": [
    {
     "data": {
      "text/plain": "<Figure size 432x288 with 1 Axes>",
      "image/png": "[encoded data removed]"
     },
     "metadata": {
      "needs_background": "light"
     },
     "output_type": "display_data"
    }
   ],
   "source": [
    "#re-vectorizing\n",
    "vec_df_nostop_bi = cv_bi.fit_transform(df['title'])\n",
    "word_df_nostop_bi = pd.DataFrame(vec_df_nostop_bi.todense(), columns = cv_bi.get_feature_names_out())\n",
    "top_words_bi = word_df_nostop_bi.sum().sort_values(ascending=False).head(15)\n",
    "\n",
    "bar = top_words_bi.sort_values().plot(kind='barh')\n",
    "bar.set_title('Frequency of words Onion + NotOnion (stopwards = english)');"
   ],
   "metadata": {
    "collapsed": false,
    "pycharm": {
     "name": "#%%\n"
    }
   }
  },
  {
   "cell_type": "code",
   "execution_count": 152,
   "outputs": [
    {
     "data": {
      "text/plain": "<Figure size 432x288 with 1 Axes>",
      "image/png": "[encoded data removed]"
     },
     "metadata": {
      "needs_background": "light"
     },
     "output_type": "display_data"
    }
   ],
   "source": [
    "#frequency of words for onion\n",
    "df_title_onion = df[df['labels']==1][['title']]\n",
    "vec_df_onion = cv_bi.fit_transform(df_title_onion['title'])\n",
    "word_df_onion = pd.DataFrame(vec_df_onion.todense(), columns = cv_bi.get_feature_names_out())\n",
    "top_words_bi = word_df_onion.sum().sort_values(ascending=False).head(15)\n",
    "\n",
    "bar = top_words_bi.sort_values().plot(kind='barh')\n",
    "bar.set_title('Frequency of words Onion');"
   ],
   "metadata": {
    "collapsed": false,
    "pycharm": {
     "name": "#%%\n"
    }
   }
  },
  {
   "cell_type": "code",
   "execution_count": 153,
   "outputs": [
    {
     "data": {
      "text/plain": "<Figure size 432x288 with 1 Axes>",
      "image/png": "[encoded data removed]"
     },
     "metadata": {
      "needs_background": "light"
     },
     "output_type": "display_data"
    }
   ],
   "source": [
    "df_title_notonion = df[df['labels']==0][['title']]\n",
    "vec_df_notonion = cv_bi.fit_transform(df_title_notonion['title'])\n",
    "word_df_notonion = pd.DataFrame(vec_df_notonion.todense(), columns = cv_bi.get_feature_names_out())\n",
    "top_words_bi = word_df_notonion.sum().sort_values(ascending=False).head(15)\n",
    "\n",
    "bar = top_words_bi.sort_values().plot(kind='barh')\n",
    "bar.set_title('Frequency of words Not The Onion');"
   ],
   "metadata": {
    "collapsed": false,
    "pycharm": {
     "name": "#%%\n"
    }
   }
  },
  {
   "cell_type": "markdown",
   "source": [
    "After removing stop words and 'Onion' the most common words are Trump, Covid, Trump and Biden indication that posts might be generally related to political/health matters.\n",
    "\n",
    "Separating the data based on subreddit there isn't much overlap between the two subreddits with the exception of general terms (e.g. man, woman etc)"
   ],
   "metadata": {
    "collapsed": false,
    "pycharm": {
     "name": "#%% md\n"
    }
   }
  },
  {
   "cell_type": "markdown",
   "source": [
    "For the final part of the cleaning process we will quickly review the remaining rows to ensure that there is sufficient data from both subreddits"
   ],
   "metadata": {
    "collapsed": false,
    "pycharm": {
     "name": "#%% md\n"
    }
   }
  },
  {
   "cell_type": "code",
   "execution_count": 164,
   "outputs": [
    {
     "data": {
      "text/plain": "             title  title_length  title_word_count  language  labels\nsubreddit                                                           \nTheOnion      4650          4650              4650      4650    4650\nnottheonion   4775          4775              4775      4775    4775",
      "text/html": "<div>\n<style scoped>\n    .dataframe tbody tr th:only-of-type {\n        vertical-align: middle;\n    }\n\n    .dataframe tbody tr th {\n        vertical-align: top;\n    }\n\n    .dataframe thead th {\n        text-align: right;\n    }\n</style>\n<table border=\"1\" class=\"dataframe\">\n  <thead>\n    <tr style=\"text-align: right;\">\n      <th></th>\n      <th>title</th>\n      <th>title_length</th>\n      <th>title_word_count</th>\n      <th>language</th>\n      <th>labels</th>\n    </tr>\n    <tr>\n      <th>subreddit</th>\n      <th></th>\n      <th></th>\n      <th></th>\n      <th></th>\n      <th></th>\n    </tr>\n  </thead>\n  <tbody>\n    <tr>\n      <th>TheOnion</th>\n      <td>4650</td>\n      <td>4650</td>\n      <td>4650</td>\n      <td>4650</td>\n      <td>4650</td>\n    </tr>\n    <tr>\n      <th>nottheonion</th>\n      <td>4775</td>\n      <td>4775</td>\n      <td>4775</td>\n      <td>4775</td>\n      <td>4775</td>\n    </tr>\n  </tbody>\n</table>\n</div>"
     },
     "execution_count": 164,
     "metadata": {},
     "output_type": "execute_result"
    }
   ],
   "source": [
    "#Checking if number of samples for both onion and not onion is the same\n",
    "df.groupby('subreddit').count()\n"
   ],
   "metadata": {
    "collapsed": false,
    "pycharm": {
     "name": "#%%\n"
    }
   }
  },
  {
   "cell_type": "code",
   "execution_count": 165,
   "outputs": [],
   "source": [
    "#there are more entries of nontheonion than the onion, we'll balance them out by dropping rows at random from not the onion till both datasets are even.\n",
    "#first we'll sort and reset index\n",
    "df.sort_values(by = 'subreddit', inplace = True, ascending = False)\n",
    "df.reset_index(inplace = True, drop = True)\n"
   ],
   "metadata": {
    "collapsed": false,
    "pycharm": {
     "name": "#%%\n"
    }
   }
  },
  {
   "cell_type": "code",
   "execution_count": 166,
   "outputs": [],
   "source": [
    "#seperate the dataset 2 smaller sets split by subreddit\n",
    "df_not = df[df.subreddit == \"nottheonion\"][['subreddit', 'title', 'title_length', 'title_word_count', 'language']]\n",
    "df_onion = df[df.subreddit == \"TheOnion\"][['subreddit', 'title', 'title_length', 'title_word_count', 'language']]"
   ],
   "metadata": {
    "collapsed": false,
    "pycharm": {
     "name": "#%%\n"
    }
   }
  },
  {
   "cell_type": "markdown",
   "source": [
    "The number of samples from each subreddit is now uneven. For classification problems a balanced dataset would be ideal since no one class takes precedence over the other. This results in more balanced and fair metrics."
   ],
   "metadata": {
    "collapsed": false,
    "pycharm": {
     "name": "#%% md\n"
    }
   }
  },
  {
   "cell_type": "code",
   "execution_count": 167,
   "outputs": [],
   "source": [
    "# creating a loop that will iterate through the df_not dataframe and cut rows at random until the number of observations for theonion and nottheonion is the same.\n",
    "for i in range(0, (len(df_not)-len(df_onion))):\n",
    "    number = random.randint(0, len(df_not))\n",
    "    df_not.drop(number, inplace = True)\n",
    "    df_not.reset_index(inplace = True, drop = True)"
   ],
   "metadata": {
    "collapsed": false,
    "pycharm": {
     "name": "#%%\n"
    }
   }
  },
  {
   "cell_type": "code",
   "execution_count": 167,
   "outputs": [],
   "source": [],
   "metadata": {
    "collapsed": false,
    "pycharm": {
     "name": "#%%\n"
    }
   }
  },
  {
   "cell_type": "code",
   "execution_count": 168,
   "outputs": [
    {
     "name": "stdout",
     "output_type": "stream",
     "text": [
      "<class 'pandas.core.frame.DataFrame'>\n",
      "Int64Index: 4650 entries, 4775 to 9424\n",
      "Data columns (total 5 columns):\n",
      " #   Column            Non-Null Count  Dtype \n",
      "---  ------            --------------  ----- \n",
      " 0   subreddit         4650 non-null   object\n",
      " 1   title             4650 non-null   object\n",
      " 2   title_length      4650 non-null   int64 \n",
      " 3   title_word_count  4650 non-null   int64 \n",
      " 4   language          4650 non-null   object\n",
      "dtypes: int64(2), object(3)\n",
      "memory usage: 218.0+ KB\n"
     ]
    }
   ],
   "source": [
    "df_onion.info()"
   ],
   "metadata": {
    "collapsed": false,
    "pycharm": {
     "name": "#%%\n"
    }
   }
  },
  {
   "cell_type": "code",
   "execution_count": 169,
   "outputs": [
    {
     "name": "stdout",
     "output_type": "stream",
     "text": [
      "<class 'pandas.core.frame.DataFrame'>\n",
      "RangeIndex: 4650 entries, 0 to 4649\n",
      "Data columns (total 5 columns):\n",
      " #   Column            Non-Null Count  Dtype \n",
      "---  ------            --------------  ----- \n",
      " 0   subreddit         4650 non-null   object\n",
      " 1   title             4650 non-null   object\n",
      " 2   title_length      4650 non-null   int64 \n",
      " 3   title_word_count  4650 non-null   int64 \n",
      " 4   language          4650 non-null   object\n",
      "dtypes: int64(2), object(3)\n",
      "memory usage: 181.8+ KB\n"
     ]
    }
   ],
   "source": [
    "df_not.info()"
   ],
   "metadata": {
    "collapsed": false,
    "pycharm": {
     "name": "#%%\n"
    }
   }
  },
  {
   "cell_type": "code",
   "execution_count": 170,
   "outputs": [],
   "source": [
    "# observations from each subreddit is now the same, we'll recombine the datasets and save it under a cleaned CSV\n",
    "df_combined = df_onion.append(df_not)"
   ],
   "metadata": {
    "collapsed": false,
    "pycharm": {
     "name": "#%%\n"
    }
   }
  },
  {
   "cell_type": "code",
   "execution_count": 171,
   "outputs": [],
   "source": [
    "df_combined.to_csv('../Datasets/combined_cleaned.csv', index = False)"
   ],
   "metadata": {
    "collapsed": false,
    "pycharm": {
     "name": "#%%\n"
    }
   }
  },
  {
   "cell_type": "code",
   "execution_count": 172,
   "outputs": [],
   "source": [
    "# end of book 2"
   ],
   "metadata": {
    "collapsed": false,
    "pycharm": {
     "name": "#%%\n"
    }
   }
  },
  {
   "cell_type": "code",
   "execution_count": 172,
   "outputs": [],
   "source": [],
   "metadata": {
    "collapsed": false,
    "pycharm": {
     "name": "#%%\n"
    }
   }
  },
  {
   "cell_type": "markdown",
   "source": [],
   "metadata": {
    "collapsed": false,
    "pycharm": {
     "name": "#%% md\n"
    }
   }
  }
 ],
 "metadata": {
  "kernelspec": {
   "display_name": "Python 3",
   "language": "python",
   "name": "python3"
  },
  "language_info": {
   "codemirror_mode": {
    "name": "ipython",
    "version": 2
   },
   "file_extension": ".py",
   "mimetype": "text/x-python",
   "name": "python",
   "nbconvert_exporter": "python",
   "pygments_lexer": "ipython2",
   "version": "2.7.6"
  }
 },
 "nbformat": 4,
 "nbformat_minor": 0
}